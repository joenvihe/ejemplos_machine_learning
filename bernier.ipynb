{
  "nbformat": 4,
  "nbformat_minor": 0,
  "metadata": {
    "colab": {
      "name": "bernier.ipynb",
      "version": "0.3.2",
      "provenance": [],
      "include_colab_link": true
    },
    "kernelspec": {
      "name": "python3",
      "display_name": "Python 3"
    }
  },
  "cells": [
    {
      "cell_type": "markdown",
      "metadata": {
        "id": "view-in-github",
        "colab_type": "text"
      },
      "source": [
        "<a href=\"https://colab.research.google.com/github/joenvihe/ejemplos_machine_learning/blob/master/bernier.ipynb\" target=\"_parent\"><img src=\"https://colab.research.google.com/assets/colab-badge.svg\" alt=\"Open In Colab\"/></a>"
      ]
    },
    {
      "cell_type": "markdown",
      "metadata": {
        "id": "dSqBy3AB8gVW",
        "colab_type": "text"
      },
      "source": [
        "## **Predicción de Cantidad de Productos por Mes**"
      ]
    },
    {
      "cell_type": "markdown",
      "metadata": {
        "id": "_IPSUsDK9bx_",
        "colab_type": "text"
      },
      "source": [
        "**Paso 1 :** Cargamos el dataset"
      ]
    },
    {
      "cell_type": "code",
      "metadata": {
        "id": "Lvx6Qk8BPvLb",
        "colab_type": "code",
        "colab": {}
      },
      "source": [
        "# Load the Drive helper and mount\n",
        "from google.colab import drive\n",
        "import pandas as pd\n",
        "from pandas import datetime\n",
        "import matplotlib.pyplot as plt\n",
        "from sklearn.metrics import mean_absolute_error,mean_squared_error"
      ],
      "execution_count": 0,
      "outputs": []
    },
    {
      "cell_type": "code",
      "metadata": {
        "id": "xexP6TrNa710",
        "colab_type": "code",
        "colab": {
          "base_uri": "https://localhost:8080/",
          "height": 122
        },
        "outputId": "f8566905-38a7-482d-801e-69f957bb6662"
      },
      "source": [
        "# This will prompt for authorization.\n",
        "drive.mount('/content/drive')"
      ],
      "execution_count": 3,
      "outputs": [
        {
          "output_type": "stream",
          "text": [
            "Go to this URL in a browser: https://accounts.google.com/o/oauth2/auth?client_id=947318989803-6bn6qk8qdgf4n4g3pfee6491hc0brc4i.apps.googleusercontent.com&redirect_uri=urn%3Aietf%3Awg%3Aoauth%3A2.0%3Aoob&scope=email%20https%3A%2F%2Fwww.googleapis.com%2Fauth%2Fdocs.test%20https%3A%2F%2Fwww.googleapis.com%2Fauth%2Fdrive%20https%3A%2F%2Fwww.googleapis.com%2Fauth%2Fdrive.photos.readonly%20https%3A%2F%2Fwww.googleapis.com%2Fauth%2Fpeopleapi.readonly&response_type=code\n",
            "\n",
            "Enter your authorization code:\n",
            "··········\n",
            "Mounted at /content/drive\n"
          ],
          "name": "stdout"
        }
      ]
    },
    {
      "cell_type": "code",
      "metadata": {
        "id": "BYgwU1tOdgAI",
        "colab_type": "code",
        "colab": {
          "base_uri": "https://localhost:8080/",
          "height": 34
        },
        "outputId": "e466354c-b3ac-4d5c-a8fa-2aa7b0f83532"
      },
      "source": [
        "%cd /content/drive/'My Drive'/personal/PRACTICAS"
      ],
      "execution_count": 4,
      "outputs": [
        {
          "output_type": "stream",
          "text": [
            "/content/drive/My Drive/personal/PRACTICAS\n"
          ],
          "name": "stdout"
        }
      ]
    },
    {
      "cell_type": "code",
      "metadata": {
        "id": "0cb8mK3tdo76",
        "colab_type": "code",
        "colab": {
          "base_uri": "https://localhost:8080/",
          "height": 34
        },
        "outputId": "84f34f58-6446-490e-f018-26283912f451"
      },
      "source": [
        "!ls"
      ],
      "execution_count": 5,
      "outputs": [
        {
          "output_type": "stream",
          "text": [
            "bernier.ipynb  dataset_ventas.csv\n"
          ],
          "name": "stdout"
        }
      ]
    },
    {
      "cell_type": "markdown",
      "metadata": {
        "id": "iPmNmz5w_dUV",
        "colab_type": "text"
      },
      "source": [
        "**Paso 2 :** Identificamos el producto a analizar"
      ]
    },
    {
      "cell_type": "code",
      "metadata": {
        "id": "SIW7J6Nh9psm",
        "colab_type": "code",
        "colab": {}
      },
      "source": [
        "NAME_PRODUCT = 'PRODUCTO_ABC1'"
      ],
      "execution_count": 0,
      "outputs": []
    },
    {
      "cell_type": "code",
      "metadata": {
        "id": "J4ApqmzVeMNd",
        "colab_type": "code",
        "colab": {}
      },
      "source": [
        "df = pd.read_csv(\"dataset_ventas.csv\", parse_dates=[['year', 'month','day']])\n",
        "df = df[['year_month_day',NAME_PRODUCT,'precipitacion','T_Max','TMR','Tasa_de_empleo','Tasa_de_desempleo','IPC']]\n",
        "df = df.sort_values('year_month_day')\n",
        "df_cant = df[['year_month_day',NAME_PRODUCT]]"
      ],
      "execution_count": 0,
      "outputs": []
    },
    {
      "cell_type": "code",
      "metadata": {
        "id": "KuolYjs9e6b6",
        "colab_type": "code",
        "colab": {
          "base_uri": "https://localhost:8080/",
          "height": 204
        },
        "outputId": "7c18687b-1c4a-4527-f2b3-8fec9a070b2d"
      },
      "source": [
        "df.head()"
      ],
      "execution_count": 267,
      "outputs": [
        {
          "output_type": "execute_result",
          "data": {
            "text/html": [
              "<div>\n",
              "<style scoped>\n",
              "    .dataframe tbody tr th:only-of-type {\n",
              "        vertical-align: middle;\n",
              "    }\n",
              "\n",
              "    .dataframe tbody tr th {\n",
              "        vertical-align: top;\n",
              "    }\n",
              "\n",
              "    .dataframe thead th {\n",
              "        text-align: right;\n",
              "    }\n",
              "</style>\n",
              "<table border=\"1\" class=\"dataframe\">\n",
              "  <thead>\n",
              "    <tr style=\"text-align: right;\">\n",
              "      <th></th>\n",
              "      <th>year_month_day</th>\n",
              "      <th>PRODUCTO_ABC1</th>\n",
              "      <th>precipitacion</th>\n",
              "      <th>T_Max</th>\n",
              "      <th>TMR</th>\n",
              "      <th>Tasa_de_empleo</th>\n",
              "      <th>Tasa_de_desempleo</th>\n",
              "      <th>IPC</th>\n",
              "    </tr>\n",
              "  </thead>\n",
              "  <tbody>\n",
              "    <tr>\n",
              "      <th>0</th>\n",
              "      <td>2015-01-31</td>\n",
              "      <td>250</td>\n",
              "      <td>3.156942</td>\n",
              "      <td>29.172795</td>\n",
              "      <td>2397.258065</td>\n",
              "      <td>56.940000</td>\n",
              "      <td>10.790000</td>\n",
              "      <td>83.000000</td>\n",
              "    </tr>\n",
              "    <tr>\n",
              "      <th>1</th>\n",
              "      <td>2015-02-28</td>\n",
              "      <td>100</td>\n",
              "      <td>3.004736</td>\n",
              "      <td>29.596166</td>\n",
              "      <td>2420.672500</td>\n",
              "      <td>57.390000</td>\n",
              "      <td>9.860000</td>\n",
              "      <td>83.000000</td>\n",
              "    </tr>\n",
              "    <tr>\n",
              "      <th>2</th>\n",
              "      <td>2015-03-31</td>\n",
              "      <td>812</td>\n",
              "      <td>3.990954</td>\n",
              "      <td>28.515759</td>\n",
              "      <td>2502.600645</td>\n",
              "      <td>56.351613</td>\n",
              "      <td>8.574194</td>\n",
              "      <td>81.290323</td>\n",
              "    </tr>\n",
              "    <tr>\n",
              "      <th>3</th>\n",
              "      <td>2015-04-30</td>\n",
              "      <td>816</td>\n",
              "      <td>5.202246</td>\n",
              "      <td>29.301018</td>\n",
              "      <td>2505.248000</td>\n",
              "      <td>59.270000</td>\n",
              "      <td>9.500000</td>\n",
              "      <td>84.000000</td>\n",
              "    </tr>\n",
              "    <tr>\n",
              "      <th>4</th>\n",
              "      <td>2015-05-31</td>\n",
              "      <td>1414</td>\n",
              "      <td>4.925526</td>\n",
              "      <td>29.372333</td>\n",
              "      <td>2437.535161</td>\n",
              "      <td>58.810000</td>\n",
              "      <td>8.930000</td>\n",
              "      <td>85.000000</td>\n",
              "    </tr>\n",
              "  </tbody>\n",
              "</table>\n",
              "</div>"
            ],
            "text/plain": [
              "  year_month_day  PRODUCTO_ABC1  ...  Tasa_de_desempleo        IPC\n",
              "0     2015-01-31            250  ...          10.790000  83.000000\n",
              "1     2015-02-28            100  ...           9.860000  83.000000\n",
              "2     2015-03-31            812  ...           8.574194  81.290323\n",
              "3     2015-04-30            816  ...           9.500000  84.000000\n",
              "4     2015-05-31           1414  ...           8.930000  85.000000\n",
              "\n",
              "[5 rows x 8 columns]"
            ]
          },
          "metadata": {
            "tags": []
          },
          "execution_count": 267
        }
      ]
    },
    {
      "cell_type": "code",
      "metadata": {
        "id": "ZMX1SH5gIsHf",
        "colab_type": "code",
        "colab": {}
      },
      "source": [
        "df.set_index('year_month_day', inplace=True)"
      ],
      "execution_count": 0,
      "outputs": []
    },
    {
      "cell_type": "markdown",
      "metadata": {
        "id": "53RSM9xsf_MP",
        "colab_type": "text"
      },
      "source": [
        "### **Time Series Forescasting**"
      ]
    },
    {
      "cell_type": "markdown",
      "metadata": {
        "id": "1aDDO_kv_5Jn",
        "colab_type": "text"
      },
      "source": [
        "**Paso 3 :** Solo se analiza la variacion de la cantidad del producto"
      ]
    },
    {
      "cell_type": "code",
      "metadata": {
        "id": "dsgI3NNhgXI0",
        "colab_type": "code",
        "colab": {
          "base_uri": "https://localhost:8080/",
          "height": 235
        },
        "outputId": "f810a666-19f1-4fbb-e1f4-01a6f650c44b"
      },
      "source": [
        "df_cant.set_index('year_month_day', inplace=True)\n",
        "df_cant.head()"
      ],
      "execution_count": 269,
      "outputs": [
        {
          "output_type": "execute_result",
          "data": {
            "text/html": [
              "<div>\n",
              "<style scoped>\n",
              "    .dataframe tbody tr th:only-of-type {\n",
              "        vertical-align: middle;\n",
              "    }\n",
              "\n",
              "    .dataframe tbody tr th {\n",
              "        vertical-align: top;\n",
              "    }\n",
              "\n",
              "    .dataframe thead th {\n",
              "        text-align: right;\n",
              "    }\n",
              "</style>\n",
              "<table border=\"1\" class=\"dataframe\">\n",
              "  <thead>\n",
              "    <tr style=\"text-align: right;\">\n",
              "      <th></th>\n",
              "      <th>PRODUCTO_ABC1</th>\n",
              "    </tr>\n",
              "    <tr>\n",
              "      <th>year_month_day</th>\n",
              "      <th></th>\n",
              "    </tr>\n",
              "  </thead>\n",
              "  <tbody>\n",
              "    <tr>\n",
              "      <th>2015-01-31</th>\n",
              "      <td>250</td>\n",
              "    </tr>\n",
              "    <tr>\n",
              "      <th>2015-02-28</th>\n",
              "      <td>100</td>\n",
              "    </tr>\n",
              "    <tr>\n",
              "      <th>2015-03-31</th>\n",
              "      <td>812</td>\n",
              "    </tr>\n",
              "    <tr>\n",
              "      <th>2015-04-30</th>\n",
              "      <td>816</td>\n",
              "    </tr>\n",
              "    <tr>\n",
              "      <th>2015-05-31</th>\n",
              "      <td>1414</td>\n",
              "    </tr>\n",
              "  </tbody>\n",
              "</table>\n",
              "</div>"
            ],
            "text/plain": [
              "                PRODUCTO_ABC1\n",
              "year_month_day               \n",
              "2015-01-31                250\n",
              "2015-02-28                100\n",
              "2015-03-31                812\n",
              "2015-04-30                816\n",
              "2015-05-31               1414"
            ]
          },
          "metadata": {
            "tags": []
          },
          "execution_count": 269
        }
      ]
    },
    {
      "cell_type": "markdown",
      "metadata": {
        "id": "a7r5uPzgAKbq",
        "colab_type": "text"
      },
      "source": [
        "**Paso 4 :** Se visualiza la variación de la cantidad del producto en el tiempo"
      ]
    },
    {
      "cell_type": "code",
      "metadata": {
        "id": "AcHYEWuWgcYV",
        "colab_type": "code",
        "colab": {
          "base_uri": "https://localhost:8080/",
          "height": 312
        },
        "outputId": "62a07fe6-6d32-45b4-e2eb-01a832dc2f7a"
      },
      "source": [
        "df_cant.plot()"
      ],
      "execution_count": 270,
      "outputs": [
        {
          "output_type": "execute_result",
          "data": {
            "text/plain": [
              "<matplotlib.axes._subplots.AxesSubplot at 0x7f6bc350ba58>"
            ]
          },
          "metadata": {
            "tags": []
          },
          "execution_count": 270
        },
        {
          "output_type": "display_data",
          "data": {
            "image/png": "[encoded data removed]",
            "text/plain": [
              "<Figure size 432x288 with 1 Axes>"
            ]
          },
          "metadata": {
            "tags": []
          }
        }
      ]
    },
    {
      "cell_type": "markdown",
      "metadata": {
        "id": "tKxxzpj7Ak2V",
        "colab_type": "text"
      },
      "source": [
        "**Paso 5 :** Se analiza la descomposición estacional de las cantidades utilizando medias móviles."
      ]
    },
    {
      "cell_type": "code",
      "metadata": {
        "id": "MCNT0rKJo6qC",
        "colab_type": "code",
        "colab": {}
      },
      "source": [
        "ts = pd.Series(list(df_cant[NAME_PRODUCT]), index=pd.to_datetime(df_cant.index,format='%Y-%m-%d')) "
      ],
      "execution_count": 0,
      "outputs": []
    },
    {
      "cell_type": "code",
      "metadata": {
        "id": "hQIO4Xa5o7E0",
        "colab_type": "code",
        "colab": {}
      },
      "source": [
        "from statsmodels.tsa.seasonal import seasonal_decompose\n",
        "decomposition = seasonal_decompose(ts)"
      ],
      "execution_count": 0,
      "outputs": []
    },
    {
      "cell_type": "code",
      "metadata": {
        "id": "D4JRL_Lpo7SF",
        "colab_type": "code",
        "colab": {
          "base_uri": "https://localhost:8080/",
          "height": 241
        },
        "outputId": "f1100efc-d0a1-4cd0-aaad-018c395224af"
      },
      "source": [
        "trend = decomposition.trend\n",
        "seasonal = decomposition.seasonal\n",
        "residual = decomposition.resid\n",
        "plt.subplot(411)\n",
        "plt.plot(ts, label='Original')\n",
        "plt.legend(loc='best')\n",
        "plt.subplot(412)\n",
        "plt.plot(trend, label='Trend')\n",
        "plt.legend(loc='best')\n",
        "plt.subplot(413)\n",
        "plt.plot(seasonal,label='Seasonality')\n",
        "plt.legend(loc='best')\n",
        "plt.tight_layout()"
      ],
      "execution_count": 273,
      "outputs": [
        {
          "output_type": "display_data",
          "data": {
            "image/png": "[encoded data removed]",
            "text/plain": [
              "<Figure size 432x288 with 3 Axes>"
            ]
          },
          "metadata": {
            "tags": []
          }
        }
      ]
    },
    {
      "cell_type": "code",
      "metadata": {
        "id": "F2COoABnpZjM",
        "colab_type": "code",
        "colab": {
          "base_uri": "https://localhost:8080/",
          "height": 51
        },
        "outputId": "804ba1a3-edc5-4524-97cd-a93a1b5e4957"
      },
      "source": [
        "import numpy as np\n",
        "from statsmodels.tsa.stattools import adfuller\n",
        "\n",
        "# log transform\n",
        "ts_log = np.log(ts)\n",
        "ts_log = ts_log.replace([np.inf, -np.inf], np.nan)\n",
        "ts_log.dropna(inplace=True) "
      ],
      "execution_count": 274,
      "outputs": [
        {
          "output_type": "stream",
          "text": [
            "/usr/local/lib/python3.6/dist-packages/ipykernel_launcher.py:5: RuntimeWarning: divide by zero encountered in log\n",
            "  \"\"\"\n"
          ],
          "name": "stderr"
        }
      ]
    },
    {
      "cell_type": "markdown",
      "metadata": {
        "id": "s9qv3alsqUuv",
        "colab_type": "text"
      },
      "source": [
        "### **Checking for Stationary**"
      ]
    },
    {
      "cell_type": "markdown",
      "metadata": {
        "id": "9igy0R4dDVFR",
        "colab_type": "text"
      },
      "source": [
        "**Paso 6 :** Validamos la estacionalidad utilizando el metodo adfuller, se realiza un grafico mostrando la estacionalidad."
      ]
    },
    {
      "cell_type": "code",
      "metadata": {
        "id": "zoCYLHBVpZen",
        "colab_type": "code",
        "colab": {
          "base_uri": "https://localhost:8080/",
          "height": 332
        },
        "outputId": "5cfddb6d-6799-4b91-ee58-4278dda4e679"
      },
      "source": [
        "s_test = adfuller(ts_log, autolag='AIC')\n",
        "\n",
        "#p,d,q  \n",
        "# p = periods taken for autoregressive model\n",
        "# d = Integrated order, difference\n",
        "# q = periods in moving average model\n",
        "\n",
        "print(\"Log transform stationary check p value: \", s_test[1])\n",
        "if s_test[1] > 0.05:\n",
        "  print(\"Non stationary\")\n",
        "else:\n",
        "  print(\"Stationary\")\n",
        "\n",
        "#Take first difference:\n",
        "ts_log_diff = ts_log - ts_log.shift()\n",
        "ts_log_diff.dropna(inplace=True)\n",
        "plt.title('Trend removed plot with first order difference') \n",
        "plt.plot(ts_log_diff)\n",
        "plt.ylabel('First order log diff')\n",
        "s_test = adfuller(ts_log_diff, autolag='AIC')\n",
        "print(\"First order difference stationary check p value: \", s_test[1])"
      ],
      "execution_count": 275,
      "outputs": [
        {
          "output_type": "stream",
          "text": [
            "Log transform stationary check p value:  5.0641233344138186e-05\n",
            "Stationary\n",
            "First order difference stationary check p value:  1.0977513770150992e-18\n"
          ],
          "name": "stdout"
        },
        {
          "output_type": "display_data",
          "data": {
            "image/png": "[encoded data removed]",
            "text/plain": [
              "<Figure size 432x288 with 1 Axes>"
            ]
          },
          "metadata": {
            "tags": []
          }
        }
      ]
    },
    {
      "cell_type": "markdown",
      "metadata": {
        "id": "S8RiJxuprMq-",
        "colab_type": "text"
      },
      "source": [
        "### **Check autocorrelation**"
      ]
    },
    {
      "cell_type": "markdown",
      "metadata": {
        "id": "1VmGLLtSGGdR",
        "colab_type": "text"
      },
      "source": [
        "**Paso 7 :** Validamos la autocorrelación en los tiempos de series "
      ]
    },
    {
      "cell_type": "code",
      "metadata": {
        "id": "aALqiV7IpZak",
        "colab_type": "code",
        "colab": {
          "base_uri": "https://localhost:8080/",
          "height": 258
        },
        "outputId": "66b4a9ee-68bb-45a5-bc2e-04c6cc1e4dee"
      },
      "source": [
        "from statsmodels.graphics.tsaplots import plot_acf,plot_pacf\n",
        "\n",
        "fig, (ax1, ax2) = plt.subplots(1, 2, figsize = (10,3))\n",
        "# ACF chart\n",
        "fig = plot_acf(ts_log_diff.values.squeeze(), lags=20,ax=ax1)\n",
        "# draw 95% confidence interval line\n",
        "ax1.axhline(y=-1.96/np.sqrt(len(ts_log_diff)),linestyle='--',color='gray')\n",
        "ax1.axhline(y=1.96/np.sqrt(len(ts_log_diff)),linestyle='--',color='gray')\n",
        "ax1.set_xlabel('Lags')\n",
        "# PACF chart\n",
        "fig = plot_pacf(ts_log_diff, lags=20, ax=ax2)\n",
        "# draw 95% confidence interval line\n",
        "ax2.axhline(y=-1.96/np.sqrt(len(ts_log_diff)),linestyle='--',color='gray')\n",
        "ax2.axhline(y=1.96/np.sqrt(len(ts_log_diff)),linestyle='--',color='gray')\n",
        "ax2.set_xlabel('Lags')"
      ],
      "execution_count": 276,
      "outputs": [
        {
          "output_type": "execute_result",
          "data": {
            "text/plain": [
              "Text(0.5, 0, 'Lags')"
            ]
          },
          "metadata": {
            "tags": []
          },
          "execution_count": 276
        },
        {
          "output_type": "display_data",
          "data": {
            "image/png": "[encoded data removed]",
            "text/plain": [
              "<Figure size 720x216 with 2 Axes>"
            ]
          },
          "metadata": {
            "tags": []
          }
        }
      ]
    },
    {
      "cell_type": "markdown",
      "metadata": {
        "id": "76q3W104G44E",
        "colab_type": "text"
      },
      "source": [
        "**Paso 8** : Se calcula el modelo ARIMA"
      ]
    },
    {
      "cell_type": "code",
      "metadata": {
        "id": "Z8ygoNxppZWa",
        "colab_type": "code",
        "colab": {
          "base_uri": "https://localhost:8080/",
          "height": 71
        },
        "outputId": "182cb75e-d72a-41ab-bfc3-408dbcfcfd58"
      },
      "source": [
        "from statsmodels.tsa.arima_model import ARIMA\n",
        "from sklearn.metrics import mean_absolute_error\n",
        "# build model\n",
        "model = ARIMA(ts_log, order=(3,0,2)) \n",
        "results_ARIMA = model.fit(disp=-1)"
      ],
      "execution_count": 277,
      "outputs": [
        {
          "output_type": "stream",
          "text": [
            "/usr/local/lib/python3.6/dist-packages/statsmodels/tsa/base/tsa_model.py:225: ValueWarning: A date index has been provided, but it has no associated frequency information and so will be ignored when e.g. forecasting.\n",
            "  ' ignored when e.g. forecasting.', ValueWarning)\n"
          ],
          "name": "stderr"
        }
      ]
    },
    {
      "cell_type": "markdown",
      "metadata": {
        "id": "4z_G4QtkHDTI",
        "colab_type": "text"
      },
      "source": [
        "**Paso 9** : Se visualiza la cantidad Acual y Predicha"
      ]
    },
    {
      "cell_type": "code",
      "metadata": {
        "id": "M1YheT7qs25Q",
        "colab_type": "code",
        "colab": {
          "base_uri": "https://localhost:8080/",
          "height": 329
        },
        "outputId": "c8a3ca9d-6666-4f10-ba60-b303fc5a4980"
      },
      "source": [
        "ts_predict = results_ARIMA.predict()\n",
        "plt.title('ARIMA Prediction')\n",
        "plt.plot(ts_log, label='Actual')\n",
        "plt.plot(ts_predict, 'r--', label='Predicted')\n",
        "plt.xlabel('Year-Month')\n",
        "plt.ylabel('Quantity')\n",
        "plt.legend(loc='best')\n",
        "print(\"AIC: \", results_ARIMA.aic)\n",
        "print(\"BIC: \", results_ARIMA.bic) "
      ],
      "execution_count": 278,
      "outputs": [
        {
          "output_type": "stream",
          "text": [
            "AIC:  135.86429557603535\n",
            "BIC:  146.9489281452281\n"
          ],
          "name": "stdout"
        },
        {
          "output_type": "display_data",
          "data": {
            "image/png": "[encoded data removed]",
            "text/plain": [
              "<Figure size 432x288 with 1 Axes>"
            ]
          },
          "metadata": {
            "tags": []
          }
        }
      ]
    },
    {
      "cell_type": "code",
      "metadata": {
        "id": "SNYaNBx_BLHC",
        "colab_type": "code",
        "colab": {
          "base_uri": "https://localhost:8080/",
          "height": 68
        },
        "outputId": "8c42a84d-696c-43ca-fa96-fea8a0bf433b"
      },
      "source": [
        "from statsmodels.stats.stattools import durbin_watson\n",
        "\n",
        "print(\"Mean Absolute Error: \", mean_absolute_error(ts_log.values, ts_predict.values))\n",
        "print(\"Root Mean Squared Error: \", np.sqrt(mean_squared_error(ts_log.values,ts_predict.values)))\n",
        "print(\"Durbin-Watson statistic :\", durbin_watson(results_ARIMA.resid.values))"
      ],
      "execution_count": 279,
      "outputs": [
        {
          "output_type": "stream",
          "text": [
            "Mean Absolute Error:  1.1612693712226618\n",
            "Root Mean Squared Error:  1.3080285090906414\n",
            "Durbin-Watson statistic : 1.89045980985406\n"
          ],
          "name": "stdout"
        }
      ]
    },
    {
      "cell_type": "markdown",
      "metadata": {
        "id": "Nyj4cLPTHU1w",
        "colab_type": "text"
      },
      "source": [
        "**Paso 10**: Se realiza la predicción para el periodo de un año"
      ]
    },
    {
      "cell_type": "code",
      "metadata": {
        "id": "LQhM4BKss3An",
        "colab_type": "code",
        "colab": {
          "base_uri": "https://localhost:8080/",
          "height": 105
        },
        "outputId": "7c1c3d91-a1de-49f6-cd87-70947c6ed823"
      },
      "source": [
        "# predict future values \n",
        "model = ARIMA(ts_log, order=(3,0,2))\n",
        "results_ARIMA = model.fit(disp=-1)\n",
        "ts_predict = results_ARIMA.predict(start=36,end=48)\n",
        "date_rng = pd.date_range(start='1/12/2018', end='1/1/2021', freq='M')\n",
        "ts_predict.index = date_rng[11:24]  # solo el año 2019"
      ],
      "execution_count": 280,
      "outputs": [
        {
          "output_type": "stream",
          "text": [
            "/usr/local/lib/python3.6/dist-packages/statsmodels/tsa/base/tsa_model.py:225: ValueWarning: A date index has been provided, but it has no associated frequency information and so will be ignored when e.g. forecasting.\n",
            "  ' ignored when e.g. forecasting.', ValueWarning)\n",
            "/usr/local/lib/python3.6/dist-packages/statsmodels/tsa/base/tsa_model.py:531: ValueWarning: No supported index is available. Prediction results will be given with an integer index beginning at `start`.\n",
            "  ValueWarning)\n"
          ],
          "name": "stderr"
        }
      ]
    },
    {
      "cell_type": "code",
      "metadata": {
        "id": "FIm4DLaD4wK_",
        "colab_type": "code",
        "colab": {
          "base_uri": "https://localhost:8080/",
          "height": 238
        },
        "outputId": "55d9e17a-b34a-4415-b748-236684525ce0"
      },
      "source": [
        "for i,val in ts_predict.iteritems():\n",
        "  print(\"En la fecha: {} la cantidad es {} \".format(i,str(round(np.exp([val])[0],2))))"
      ],
      "execution_count": 281,
      "outputs": [
        {
          "output_type": "stream",
          "text": [
            "En la fecha: 2018-12-31 00:00:00 la cantidad es 425.52 \n",
            "En la fecha: 2019-01-31 00:00:00 la cantidad es 332.52 \n",
            "En la fecha: 2019-02-28 00:00:00 la cantidad es 141.57 \n",
            "En la fecha: 2019-03-31 00:00:00 la cantidad es 124.79 \n",
            "En la fecha: 2019-04-30 00:00:00 la cantidad es 103.89 \n",
            "En la fecha: 2019-05-31 00:00:00 la cantidad es 116.32 \n",
            "En la fecha: 2019-06-30 00:00:00 la cantidad es 130.62 \n",
            "En la fecha: 2019-07-31 00:00:00 la cantidad es 158.39 \n",
            "En la fecha: 2019-08-31 00:00:00 la cantidad es 185.55 \n",
            "En la fecha: 2019-09-30 00:00:00 la cantidad es 213.31 \n",
            "En la fecha: 2019-10-31 00:00:00 la cantidad es 233.02 \n",
            "En la fecha: 2019-11-30 00:00:00 la cantidad es 245.02 \n",
            "En la fecha: 2019-12-31 00:00:00 la cantidad es 248.12 \n"
          ],
          "name": "stdout"
        }
      ]
    },
    {
      "cell_type": "code",
      "metadata": {
        "id": "6KIPTVBus3GC",
        "colab_type": "code",
        "colab": {
          "base_uri": "https://localhost:8080/",
          "height": 312
        },
        "outputId": "a4a22a08-b5d9-41e5-a327-c155d518d4e7"
      },
      "source": [
        "plt.title('ARIMA Future Value Prediction - order(3,0,2)')\n",
        "plt.plot(ts_log, label='Actual')\n",
        "plt.plot(ts_predict, 'r--', label='Predicted')\n",
        "plt.xlabel('Year-Month')\n",
        "plt.ylabel('Quantity')\n",
        "plt.legend(loc='best')"
      ],
      "execution_count": 282,
      "outputs": [
        {
          "output_type": "execute_result",
          "data": {
            "text/plain": [
              "<matplotlib.legend.Legend at 0x7f6bc3148320>"
            ]
          },
          "metadata": {
            "tags": []
          },
          "execution_count": 282
        },
        {
          "output_type": "display_data",
          "data": {
            "image/png": "[encoded data removed]",
            "text/plain": [
              "<Figure size 432x288 with 1 Axes>"
            ]
          },
          "metadata": {
            "tags": []
          }
        }
      ]
    },
    {
      "cell_type": "markdown",
      "metadata": {
        "id": "kNehat44HoTa",
        "colab_type": "text"
      },
      "source": [
        ""
      ]
    },
    {
      "cell_type": "markdown",
      "metadata": {
        "id": "BuC2k2uqHqrC",
        "colab_type": "text"
      },
      "source": [
        ""
      ]
    },
    {
      "cell_type": "markdown",
      "metadata": {
        "id": "OmXBl1ktHq4O",
        "colab_type": "text"
      },
      "source": [
        "## **Predicción de Cantidad de Productos por Mes con variables dependientes**"
      ]
    },
    {
      "cell_type": "code",
      "metadata": {
        "id": "CN83sP9SOBh0",
        "colab_type": "code",
        "colab": {}
      },
      "source": [
        "from math import sqrt\n",
        "from numpy import concatenate\n",
        "from matplotlib import pyplot\n",
        "from pandas import read_csv\n",
        "from pandas import DataFrame\n",
        "from pandas import concat\n",
        "from sklearn.preprocessing import MinMaxScaler\n",
        "from sklearn.preprocessing import LabelEncoder\n",
        "from sklearn.metrics import mean_squared_error\n",
        "from keras.models import Sequential\n",
        "from keras.layers import Dense\n",
        "from keras.layers import LSTM"
      ],
      "execution_count": 0,
      "outputs": []
    },
    {
      "cell_type": "markdown",
      "metadata": {
        "id": "uSISSgKfJeBB",
        "colab_type": "text"
      },
      "source": [
        "**Paso 1**: Se desarrollo un metodo para transformar el dataset de tiempos de serie a uno supervisado"
      ]
    },
    {
      "cell_type": "code",
      "metadata": {
        "id": "rqtObUkbN9H1",
        "colab_type": "code",
        "colab": {}
      },
      "source": [
        "#convert data to supervised form\n",
        "\n",
        "def to_supervised(data,dropNa = True,lag = 1):\n",
        "    df = pd.DataFrame(data)\n",
        "    column = []\n",
        "    column.append(df)\n",
        "    for i in range(1,lag+1):\n",
        "        column.append(df.shift(-i))\n",
        "    df = pd.concat(column,axis=1)\n",
        "    df.dropna(inplace = True)\n",
        "    features = data.shape[1]\n",
        "    df = df.values\n",
        "    supervised_data = df[:,:features*lag]\n",
        "    supervised_data = np.column_stack( [supervised_data, df[:,features*lag]])\n",
        "    return supervised_data"
      ],
      "execution_count": 0,
      "outputs": []
    },
    {
      "cell_type": "code",
      "metadata": {
        "id": "_tuU26b0N9zG",
        "colab_type": "code",
        "colab": {
          "base_uri": "https://localhost:8080/",
          "height": 235
        },
        "outputId": "b237edcf-4c94-4e40-c903-dee41634500b"
      },
      "source": [
        "data = df\n",
        "data.head()"
      ],
      "execution_count": 287,
      "outputs": [
        {
          "output_type": "execute_result",
          "data": {
            "text/html": [
              "<div>\n",
              "<style scoped>\n",
              "    .dataframe tbody tr th:only-of-type {\n",
              "        vertical-align: middle;\n",
              "    }\n",
              "\n",
              "    .dataframe tbody tr th {\n",
              "        vertical-align: top;\n",
              "    }\n",
              "\n",
              "    .dataframe thead th {\n",
              "        text-align: right;\n",
              "    }\n",
              "</style>\n",
              "<table border=\"1\" class=\"dataframe\">\n",
              "  <thead>\n",
              "    <tr style=\"text-align: right;\">\n",
              "      <th></th>\n",
              "      <th>PRODUCTO_ABC1</th>\n",
              "      <th>precipitacion</th>\n",
              "      <th>T_Max</th>\n",
              "      <th>TMR</th>\n",
              "      <th>Tasa_de_empleo</th>\n",
              "      <th>Tasa_de_desempleo</th>\n",
              "      <th>IPC</th>\n",
              "    </tr>\n",
              "    <tr>\n",
              "      <th>year_month_day</th>\n",
              "      <th></th>\n",
              "      <th></th>\n",
              "      <th></th>\n",
              "      <th></th>\n",
              "      <th></th>\n",
              "      <th></th>\n",
              "      <th></th>\n",
              "    </tr>\n",
              "  </thead>\n",
              "  <tbody>\n",
              "    <tr>\n",
              "      <th>2015-01-31</th>\n",
              "      <td>250</td>\n",
              "      <td>3.156942</td>\n",
              "      <td>29.172795</td>\n",
              "      <td>2397.258065</td>\n",
              "      <td>56.940000</td>\n",
              "      <td>10.790000</td>\n",
              "      <td>83.000000</td>\n",
              "    </tr>\n",
              "    <tr>\n",
              "      <th>2015-02-28</th>\n",
              "      <td>100</td>\n",
              "      <td>3.004736</td>\n",
              "      <td>29.596166</td>\n",
              "      <td>2420.672500</td>\n",
              "      <td>57.390000</td>\n",
              "      <td>9.860000</td>\n",
              "      <td>83.000000</td>\n",
              "    </tr>\n",
              "    <tr>\n",
              "      <th>2015-03-31</th>\n",
              "      <td>812</td>\n",
              "      <td>3.990954</td>\n",
              "      <td>28.515759</td>\n",
              "      <td>2502.600645</td>\n",
              "      <td>56.351613</td>\n",
              "      <td>8.574194</td>\n",
              "      <td>81.290323</td>\n",
              "    </tr>\n",
              "    <tr>\n",
              "      <th>2015-04-30</th>\n",
              "      <td>816</td>\n",
              "      <td>5.202246</td>\n",
              "      <td>29.301018</td>\n",
              "      <td>2505.248000</td>\n",
              "      <td>59.270000</td>\n",
              "      <td>9.500000</td>\n",
              "      <td>84.000000</td>\n",
              "    </tr>\n",
              "    <tr>\n",
              "      <th>2015-05-31</th>\n",
              "      <td>1414</td>\n",
              "      <td>4.925526</td>\n",
              "      <td>29.372333</td>\n",
              "      <td>2437.535161</td>\n",
              "      <td>58.810000</td>\n",
              "      <td>8.930000</td>\n",
              "      <td>85.000000</td>\n",
              "    </tr>\n",
              "  </tbody>\n",
              "</table>\n",
              "</div>"
            ],
            "text/plain": [
              "                PRODUCTO_ABC1  precipitacion  ...  Tasa_de_desempleo        IPC\n",
              "year_month_day                                ...                              \n",
              "2015-01-31                250       3.156942  ...          10.790000  83.000000\n",
              "2015-02-28                100       3.004736  ...           9.860000  83.000000\n",
              "2015-03-31                812       3.990954  ...           8.574194  81.290323\n",
              "2015-04-30                816       5.202246  ...           9.500000  84.000000\n",
              "2015-05-31               1414       4.925526  ...           8.930000  85.000000\n",
              "\n",
              "[5 rows x 7 columns]"
            ]
          },
          "metadata": {
            "tags": []
          },
          "execution_count": 287
        }
      ]
    },
    {
      "cell_type": "markdown",
      "metadata": {
        "id": "RMRpohy0Jnna",
        "colab_type": "text"
      },
      "source": [
        "**Paso 2:** Se realiza un analisis de las variables dependientes"
      ]
    },
    {
      "cell_type": "code",
      "metadata": {
        "id": "49TmcODKJ5Bh",
        "colab_type": "code",
        "outputId": "fdea5f88-bb1c-4851-f6b1-866935392ed8",
        "colab": {
          "base_uri": "https://localhost:8080/",
          "height": 268
        }
      },
      "source": [
        "groups = [0, 1, 2, 3, 5, 6]\n",
        "values = data.values\n",
        "fig,sub = plt.subplots(3,2)\n",
        "plt.subplots_adjust(wspace=1, hspace=1)\n",
        "\n",
        "for ax, i in zip(sub.flatten(),groups):\n",
        "    ax.plot(values[:,i])\n",
        "    ax.set_xticks(())\n",
        "    ax.set_yticks(())\n",
        "    ax.set_title(data.columns[i])"
      ],
      "execution_count": 288,
      "outputs": [
        {
          "output_type": "display_data",
          "data": {
            "image/png": "[encoded data removed]",
            "text/plain": [
              "<Figure size 432x288 with 6 Axes>"
            ]
          },
          "metadata": {
            "tags": []
          }
        }
      ]
    },
    {
      "cell_type": "code",
      "metadata": {
        "id": "B1U5hPZf2tv4",
        "colab_type": "code",
        "colab": {
          "base_uri": "https://localhost:8080/",
          "height": 85
        },
        "outputId": "c5358c65-3405-4e49-a65e-9625547fa13b"
      },
      "source": [
        "values = data.values\n",
        "values[:2]"
      ],
      "execution_count": 289,
      "outputs": [
        {
          "output_type": "execute_result",
          "data": {
            "text/plain": [
              "array([[ 250.        ,    3.1569425 ,   29.17279486, 2397.258065  ,\n",
              "          56.94      ,   10.79      ,   83.        ],\n",
              "       [ 100.        ,    3.00473603,   29.59616634, 2420.6725    ,\n",
              "          57.39      ,    9.86      ,   83.        ]])"
            ]
          },
          "metadata": {
            "tags": []
          },
          "execution_count": 289
        }
      ]
    },
    {
      "cell_type": "markdown",
      "metadata": {
        "id": "sHpKLsyEJwdm",
        "colab_type": "text"
      },
      "source": [
        "**Paso 3:**  Se transsforma las variables a una medida scalar entre 0 y 1"
      ]
    },
    {
      "cell_type": "code",
      "metadata": {
        "id": "vcVmvnv6OHIV",
        "colab_type": "code",
        "colab": {
          "base_uri": "https://localhost:8080/",
          "height": 85
        },
        "outputId": "6689dca1-c60d-4de0-e0c0-96af928d87ef"
      },
      "source": [
        "# integer encode direction\n",
        "values = values.astype('float32')\n",
        "# normalize features\n",
        "scaler = MinMaxScaler(feature_range=(0, 1))\n",
        "scaled = scaler.fit_transform(values)\n",
        "scaled[:2]"
      ],
      "execution_count": 290,
      "outputs": [
        {
          "output_type": "execute_result",
          "data": {
            "text/plain": [
              "array([[0.08148631, 0.2229397 , 0.4618063 , 0.        , 0.20320892,\n",
              "        0.7706015 , 0.09137917],\n",
              "       [0.03259452, 0.19788739, 0.6172409 , 0.02444887, 0.28342247,\n",
              "        0.58011866, 0.09137917]], dtype=float32)"
            ]
          },
          "metadata": {
            "tags": []
          },
          "execution_count": 290
        }
      ]
    },
    {
      "cell_type": "markdown",
      "metadata": {
        "id": "upGKmYAlKA_L",
        "colab_type": "text"
      },
      "source": [
        "**Paso 4 :** Se genera el dataset para un modelo supervisado"
      ]
    },
    {
      "cell_type": "code",
      "metadata": {
        "id": "mxAGBpd3OSkd",
        "colab_type": "code",
        "colab": {
          "base_uri": "https://localhost:8080/",
          "height": 204
        },
        "outputId": "68d4f234-4a2c-472f-d0e6-1920a3e76468"
      },
      "source": [
        "# frame as supervised learning \n",
        "supervised = to_supervised(scaled,lag=timeSteps)\n",
        "pd.DataFrame(supervised).head()\n"
      ],
      "execution_count": 302,
      "outputs": [
        {
          "output_type": "execute_result",
          "data": {
            "text/html": [
              "<div>\n",
              "<style scoped>\n",
              "    .dataframe tbody tr th:only-of-type {\n",
              "        vertical-align: middle;\n",
              "    }\n",
              "\n",
              "    .dataframe tbody tr th {\n",
              "        vertical-align: top;\n",
              "    }\n",
              "\n",
              "    .dataframe thead th {\n",
              "        text-align: right;\n",
              "    }\n",
              "</style>\n",
              "<table border=\"1\" class=\"dataframe\">\n",
              "  <thead>\n",
              "    <tr style=\"text-align: right;\">\n",
              "      <th></th>\n",
              "      <th>0</th>\n",
              "      <th>1</th>\n",
              "      <th>2</th>\n",
              "      <th>3</th>\n",
              "      <th>4</th>\n",
              "      <th>5</th>\n",
              "      <th>6</th>\n",
              "      <th>7</th>\n",
              "    </tr>\n",
              "  </thead>\n",
              "  <tbody>\n",
              "    <tr>\n",
              "      <th>0</th>\n",
              "      <td>0.081486</td>\n",
              "      <td>0.222940</td>\n",
              "      <td>0.461806</td>\n",
              "      <td>0.000000</td>\n",
              "      <td>0.203209</td>\n",
              "      <td>0.770602</td>\n",
              "      <td>0.091379</td>\n",
              "      <td>0.032595</td>\n",
              "    </tr>\n",
              "    <tr>\n",
              "      <th>1</th>\n",
              "      <td>0.032595</td>\n",
              "      <td>0.197887</td>\n",
              "      <td>0.617241</td>\n",
              "      <td>0.024449</td>\n",
              "      <td>0.283422</td>\n",
              "      <td>0.580119</td>\n",
              "      <td>0.091379</td>\n",
              "      <td>0.264668</td>\n",
              "    </tr>\n",
              "    <tr>\n",
              "      <th>2</th>\n",
              "      <td>0.264668</td>\n",
              "      <td>0.360213</td>\n",
              "      <td>0.220586</td>\n",
              "      <td>0.109996</td>\n",
              "      <td>0.098327</td>\n",
              "      <td>0.316760</td>\n",
              "      <td>0.000000</td>\n",
              "      <td>0.265971</td>\n",
              "    </tr>\n",
              "    <tr>\n",
              "      <th>3</th>\n",
              "      <td>0.265971</td>\n",
              "      <td>0.559585</td>\n",
              "      <td>0.508882</td>\n",
              "      <td>0.112760</td>\n",
              "      <td>0.618539</td>\n",
              "      <td>0.506384</td>\n",
              "      <td>0.144827</td>\n",
              "      <td>0.460887</td>\n",
              "    </tr>\n",
              "    <tr>\n",
              "      <th>4</th>\n",
              "      <td>0.460887</td>\n",
              "      <td>0.514038</td>\n",
              "      <td>0.535064</td>\n",
              "      <td>0.042056</td>\n",
              "      <td>0.536542</td>\n",
              "      <td>0.389636</td>\n",
              "      <td>0.198276</td>\n",
              "      <td>0.534550</td>\n",
              "    </tr>\n",
              "  </tbody>\n",
              "</table>\n",
              "</div>"
            ],
            "text/plain": [
              "          0         1         2  ...         5         6         7\n",
              "0  0.081486  0.222940  0.461806  ...  0.770602  0.091379  0.032595\n",
              "1  0.032595  0.197887  0.617241  ...  0.580119  0.091379  0.264668\n",
              "2  0.264668  0.360213  0.220586  ...  0.316760  0.000000  0.265971\n",
              "3  0.265971  0.559585  0.508882  ...  0.506384  0.144827  0.460887\n",
              "4  0.460887  0.514038  0.535064  ...  0.389636  0.198276  0.534550\n",
              "\n",
              "[5 rows x 8 columns]"
            ]
          },
          "metadata": {
            "tags": []
          },
          "execution_count": 302
        }
      ]
    },
    {
      "cell_type": "markdown",
      "metadata": {
        "id": "BFVvrcxzLAcD",
        "colab_type": "text"
      },
      "source": [
        "**Paso 5:** Se genera los datos de test y de entranamiento"
      ]
    },
    {
      "cell_type": "code",
      "metadata": {
        "id": "Af6MzUTPuVhY",
        "colab_type": "code",
        "colab": {
          "base_uri": "https://localhost:8080/",
          "height": 34
        },
        "outputId": "bf7018ef-3364-4c57-fe7c-60610372a6a5"
      },
      "source": [
        "features = data.shape[1]\n",
        "train_hours = 35\n",
        "X = supervised[:,:features*timeSteps]\n",
        "y = supervised[:,features*timeSteps]\n",
        "\n",
        "x_train = X[:train_hours,:]\n",
        "x_test = X[train_hours:,:]\n",
        "y_train = y[:train_hours]\n",
        "y_test = y[train_hours:]\n",
        "\n",
        "print(x_train.shape,x_test.shape,y_train.shape,y_test.shape)"
      ],
      "execution_count": 292,
      "outputs": [
        {
          "output_type": "stream",
          "text": [
            "(35, 7) (12, 7) (35,) (12,)\n"
          ],
          "name": "stdout"
        }
      ]
    },
    {
      "cell_type": "code",
      "metadata": {
        "id": "4zfKZM7vuVzT",
        "colab_type": "code",
        "colab": {
          "base_uri": "https://localhost:8080/",
          "height": 34
        },
        "outputId": "acdf100b-3697-49ef-b66b-aadb0b1b1686"
      },
      "source": [
        "x_train = x_train.reshape(x_train.shape[0], timeSteps, features)\n",
        "x_test = x_test.reshape(x_test.shape[0], timeSteps, features)\n",
        "\n",
        "print(x_train.shape,x_test.shape)"
      ],
      "execution_count": 293,
      "outputs": [
        {
          "output_type": "stream",
          "text": [
            "(35, 1, 7) (12, 1, 7)\n"
          ],
          "name": "stdout"
        }
      ]
    },
    {
      "cell_type": "markdown",
      "metadata": {
        "id": "4DYUGxK8LPcf",
        "colab_type": "text"
      },
      "source": [
        "**Paso 6:** Se define y ejecuta el modelo "
      ]
    },
    {
      "cell_type": "code",
      "metadata": {
        "id": "oDVejEe6urne",
        "colab_type": "code",
        "colab": {}
      },
      "source": [
        "#define the model\n",
        "\n",
        "model = Sequential()\n",
        "model.add( LSTM( 50, input_shape = ( timeSteps,x_train.shape[2]) ) )\n",
        "model.add( Dense(1) )\n",
        "\n",
        "model.compile( loss = \"mae\", optimizer = \"adam\")\n",
        "\n",
        "history =  model.fit( x_train,y_train, validation_data = (x_test,y_test), epochs = 50 , batch_size = 72, verbose = 0, shuffle = False)"
      ],
      "execution_count": 0,
      "outputs": []
    },
    {
      "cell_type": "code",
      "metadata": {
        "id": "u3xX0cNuurz_",
        "colab_type": "code",
        "colab": {
          "base_uri": "https://localhost:8080/",
          "height": 268
        },
        "outputId": "1fc7ea00-d013-4b42-c1d6-77fe65925bde"
      },
      "source": [
        "plt.plot(history.history['loss'], label='train')\n",
        "plt.plot(history.history['val_loss'], label='test')\n",
        "plt.legend()\n",
        "plt.yticks([])\n",
        "plt.xticks([])\n",
        "plt.title(\"loss during training\")\n",
        "plt.show()"
      ],
      "execution_count": 295,
      "outputs": [
        {
          "output_type": "display_data",
          "data": {
            "image/png": "[encoded data removed]",
            "text/plain": [
              "<Figure size 432x288 with 1 Axes>"
            ]
          },
          "metadata": {
            "tags": []
          }
        }
      ]
    },
    {
      "cell_type": "markdown",
      "metadata": {
        "id": "YOGUJ7l1Lf5I",
        "colab_type": "text"
      },
      "source": [
        "**Paso 7:** Se valida el resultado"
      ]
    },
    {
      "cell_type": "code",
      "metadata": {
        "id": "FI0_5fgiusCI",
        "colab_type": "code",
        "colab": {}
      },
      "source": [
        "#scale back the prediction to orginal scale\n",
        "y_pred = model.predict(x_test)\n",
        "x_test = x_test.reshape(x_test.shape[0],x_test.shape[2]*x_test.shape[1]) "
      ],
      "execution_count": 0,
      "outputs": []
    },
    {
      "cell_type": "code",
      "metadata": {
        "id": "Li1XyCwavDfK",
        "colab_type": "code",
        "colab": {}
      },
      "source": [
        "inv_new = np.concatenate( (y_pred, x_test[:,1:] ) , axis =1)\n",
        "inv_new = scaler.inverse_transform(inv_new)\n",
        "final_pred = inv_new[:,0]"
      ],
      "execution_count": 0,
      "outputs": []
    },
    {
      "cell_type": "code",
      "metadata": {
        "id": "2snlLZ-VvDvs",
        "colab_type": "code",
        "colab": {}
      },
      "source": [
        "y_test = y_test.reshape( len(y_test), 1)\n",
        "inv_new = np.concatenate( (y_test, x_test[:,1:] ) ,axis = 1)\n",
        "inv_new = scaler.inverse_transform(inv_new)\n",
        "actual_pred = inv_new[:,0]"
      ],
      "execution_count": 0,
      "outputs": []
    },
    {
      "cell_type": "code",
      "metadata": {
        "id": "-pOhmhrrwnfb",
        "colab_type": "code",
        "colab": {
          "base_uri": "https://localhost:8080/",
          "height": 68
        },
        "outputId": "bbc1e4a3-7097-4ec8-9d3e-cbde677b2509"
      },
      "source": [
        "final_pred"
      ],
      "execution_count": 299,
      "outputs": [
        {
          "output_type": "execute_result",
          "data": {
            "text/plain": [
              "array([134.34682 , 192.35939 , 213.56529 , 261.5856  , 134.30728 ,\n",
              "       106.517914, 113.360794, 163.02943 , 175.67087 , 212.30632 ,\n",
              "       135.40186 , 259.74493 ], dtype=float32)"
            ]
          },
          "metadata": {
            "tags": []
          },
          "execution_count": 299
        }
      ]
    },
    {
      "cell_type": "code",
      "metadata": {
        "id": "nuLJ3JizwpNu",
        "colab_type": "code",
        "colab": {
          "base_uri": "https://localhost:8080/",
          "height": 68
        },
        "outputId": "77fe790d-ebdf-4a2c-e92f-285e59afa524"
      },
      "source": [
        "actual_pred"
      ],
      "execution_count": 300,
      "outputs": [
        {
          "output_type": "execute_result",
          "data": {
            "text/plain": [
              "array([ 219.99998,   24.     , 1438.     ,    0.     ,    0.     ,\n",
              "          0.     ,  100.     ,  166.     ,  987.99994,    0.     ,\n",
              "       3068.     ,    0.     ], dtype=float32)"
            ]
          },
          "metadata": {
            "tags": []
          },
          "execution_count": 300
        }
      ]
    },
    {
      "cell_type": "code",
      "metadata": {
        "id": "00rdAjzzvDq1",
        "colab_type": "code",
        "colab": {
          "base_uri": "https://localhost:8080/",
          "height": 298
        },
        "outputId": "563ef30e-039d-4c19-f0fa-794cefe11d6d"
      },
      "source": [
        "plt.plot(final_pred, label = \"prediction\",c = \"b\")\n",
        "plt.plot(actual_pred,label = \"actual data\",c=\"r\")\n",
        "plt.title(\"comparison between prediction and actual data\")\n",
        "plt.legend()"
      ],
      "execution_count": 301,
      "outputs": [
        {
          "output_type": "execute_result",
          "data": {
            "text/plain": [
              "<matplotlib.legend.Legend at 0x7f6bc2bbfdd8>"
            ]
          },
          "metadata": {
            "tags": []
          },
          "execution_count": 301
        },
        {
          "output_type": "display_data",
          "data": {
            "image/png": "[encoded data removed]",
            "text/plain": [
              "<Figure size 432x288 with 1 Axes>"
            ]
          },
          "metadata": {
            "tags": []
          }
        }
      ]
    },
    {
      "cell_type": "code",
      "metadata": {
        "id": "-0AiYZ3RvDmd",
        "colab_type": "code",
        "colab": {}
      },
      "source": [
        ""
      ],
      "execution_count": 0,
      "outputs": []
    },
    {
      "cell_type": "code",
      "metadata": {
        "id": "xQL_x2UIusLO",
        "colab_type": "code",
        "colab": {}
      },
      "source": [
        ""
      ],
      "execution_count": 0,
      "outputs": []
    },
    {
      "cell_type": "code",
      "metadata": {
        "id": "j6srZSRUsboy",
        "colab_type": "code",
        "colab": {}
      },
      "source": [
        ""
      ],
      "execution_count": 0,
      "outputs": []
    }
  ]
}