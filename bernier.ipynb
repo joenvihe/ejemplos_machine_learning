{
  "nbformat": 4,
  "nbformat_minor": 0,
  "metadata": {
    "colab": {
      "name": "bernier.ipynb",
      "version": "0.3.2",
      "provenance": [],
      "include_colab_link": true
    },
    "kernelspec": {
      "name": "python3",
      "display_name": "Python 3"
    }
  },
  "cells": [
    {
      "cell_type": "markdown",
      "metadata": {
        "id": "view-in-github",
        "colab_type": "text"
      },
      "source": [
        "<a href=\"https://colab.research.google.com/github/joenvihe/ejemplos_machine_learning/blob/master/bernier.ipynb\" target=\"_parent\"><img src=\"https://colab.research.google.com/assets/colab-badge.svg\" alt=\"Open In Colab\"/></a>"
      ]
    },
    {
      "cell_type": "markdown",
      "metadata": {
        "id": "dSqBy3AB8gVW",
        "colab_type": "text"
      },
      "source": [
        "## **Predicción de Cantidad de Productos por Mes**"
      ]
    },
    {
      "cell_type": "markdown",
      "metadata": {
        "id": "_IPSUsDK9bx_",
        "colab_type": "text"
      },
      "source": [
        "**Paso 1 :** Cargamos el dataset"
      ]
    },
    {
      "cell_type": "code",
      "metadata": {
        "id": "Lvx6Qk8BPvLb",
        "colab_type": "code",
        "colab": {}
      },
      "source": [
        "# Load the Drive helper and mount\n",
        "from google.colab import drive\n",
        "import pandas as pd\n",
        "from pandas import datetime\n",
        "import matplotlib.pyplot as plt\n",
        "from sklearn.metrics import mean_absolute_error,mean_squared_error"
      ],
      "execution_count": 0,
      "outputs": []
    },
    {
      "cell_type": "code",
      "metadata": {
        "id": "xexP6TrNa710",
        "colab_type": "code",
        "colab": {
          "base_uri": "https://localhost:8080/",
          "height": 122
        },
        "outputId": "f8566905-38a7-482d-801e-69f957bb6662"
      },
      "source": [
        "# This will prompt for authorization.\n",
        "drive.mount('/content/drive')"
      ],
      "execution_count": 3,
      "outputs": [
        {
          "output_type": "stream",
          "text": [
            "Go to this URL in a browser: https://accounts.google.com/o/oauth2/auth?client_id=947318989803-6bn6qk8qdgf4n4g3pfee6491hc0brc4i.apps.googleusercontent.com&redirect_uri=urn%3Aietf%3Awg%3Aoauth%3A2.0%3Aoob&scope=email%20https%3A%2F%2Fwww.googleapis.com%2Fauth%2Fdocs.test%20https%3A%2F%2Fwww.googleapis.com%2Fauth%2Fdrive%20https%3A%2F%2Fwww.googleapis.com%2Fauth%2Fdrive.photos.readonly%20https%3A%2F%2Fwww.googleapis.com%2Fauth%2Fpeopleapi.readonly&response_type=code\n",
            "\n",
            "Enter your authorization code:\n",
            "··········\n",
            "Mounted at /content/drive\n"
          ],
          "name": "stdout"
        }
      ]
    },
    {
      "cell_type": "code",
      "metadata": {
        "id": "BYgwU1tOdgAI",
        "colab_type": "code",
        "colab": {
          "base_uri": "https://localhost:8080/",
          "height": 34
        },
        "outputId": "e466354c-b3ac-4d5c-a8fa-2aa7b0f83532"
      },
      "source": [
        "%cd /content/drive/'My Drive'/personal/PRACTICAS"
      ],
      "execution_count": 4,
      "outputs": [
        {
          "output_type": "stream",
          "text": [
            "/content/drive/My Drive/personal/PRACTICAS\n"
          ],
          "name": "stdout"
        }
      ]
    },
    {
      "cell_type": "code",
      "metadata": {
        "id": "0cb8mK3tdo76",
        "colab_type": "code",
        "colab": {
          "base_uri": "https://localhost:8080/",
          "height": 34
        },
        "outputId": "84f34f58-6446-490e-f018-26283912f451"
      },
      "source": [
        "!ls"
      ],
      "execution_count": 5,
      "outputs": [
        {
          "output_type": "stream",
          "text": [
            "bernier.ipynb  dataset_ventas.csv\n"
          ],
          "name": "stdout"
        }
      ]
    },
    {
      "cell_type": "markdown",
      "metadata": {
        "id": "iPmNmz5w_dUV",
        "colab_type": "text"
      },
      "source": [
        "**Paso 2 :** Identificamos el producto a analizar"
      ]
    },
    {
      "cell_type": "code",
      "metadata": {
        "id": "SIW7J6Nh9psm",
        "colab_type": "code",
        "colab": {}
      },
      "source": [
        "NAME_PRODUCT = 'PRODUCTO_ABC1'"
      ],
      "execution_count": 0,
      "outputs": []
    },
    {
      "cell_type": "code",
      "metadata": {
        "id": "J4ApqmzVeMNd",
        "colab_type": "code",
        "colab": {}
      },
      "source": [
        "df = pd.read_csv(\"dataset_ventas.csv\", parse_dates=[['year', 'month','day']])\n",
        "df = df[['year_month_day',NAME_PRODUCT,'precipitacion','T_Max','TMR','Tasa_de_empleo','Tasa_de_desempleo','IPC']]\n",
        "df = df.sort_values('year_month_day')\n",
        "df_cant = df[['year_month_day',NAME_PRODUCT]]"
      ],
      "execution_count": 0,
      "outputs": []
    },
    {
      "cell_type": "code",
      "metadata": {
        "id": "KuolYjs9e6b6",
        "colab_type": "code",
        "colab": {
          "base_uri": "https://localhost:8080/",
          "height": 204
        },
        "outputId": "4e59baeb-251f-4e0a-df29-f1d86279762f"
      },
      "source": [
        "df.head()"
      ],
      "execution_count": 243,
      "outputs": [
        {
          "output_type": "execute_result",
          "data": {
            "text/html": [
              "<div>\n",
              "<style scoped>\n",
              "    .dataframe tbody tr th:only-of-type {\n",
              "        vertical-align: middle;\n",
              "    }\n",
              "\n",
              "    .dataframe tbody tr th {\n",
              "        vertical-align: top;\n",
              "    }\n",
              "\n",
              "    .dataframe thead th {\n",
              "        text-align: right;\n",
              "    }\n",
              "</style>\n",
              "<table border=\"1\" class=\"dataframe\">\n",
              "  <thead>\n",
              "    <tr style=\"text-align: right;\">\n",
              "      <th></th>\n",
              "      <th>year_month_day</th>\n",
              "      <th>PRODUCTO_ABC1</th>\n",
              "      <th>precipitacion</th>\n",
              "      <th>T_Max</th>\n",
              "      <th>TMR</th>\n",
              "      <th>Tasa_de_empleo</th>\n",
              "      <th>Tasa_de_desempleo</th>\n",
              "      <th>IPC</th>\n",
              "    </tr>\n",
              "  </thead>\n",
              "  <tbody>\n",
              "    <tr>\n",
              "      <th>0</th>\n",
              "      <td>2015-01-31</td>\n",
              "      <td>250</td>\n",
              "      <td>3.156942</td>\n",
              "      <td>29.172795</td>\n",
              "      <td>2397.258065</td>\n",
              "      <td>56.940000</td>\n",
              "      <td>10.790000</td>\n",
              "      <td>83.000000</td>\n",
              "    </tr>\n",
              "    <tr>\n",
              "      <th>1</th>\n",
              "      <td>2015-02-28</td>\n",
              "      <td>100</td>\n",
              "      <td>3.004736</td>\n",
              "      <td>29.596166</td>\n",
              "      <td>2420.672500</td>\n",
              "      <td>57.390000</td>\n",
              "      <td>9.860000</td>\n",
              "      <td>83.000000</td>\n",
              "    </tr>\n",
              "    <tr>\n",
              "      <th>2</th>\n",
              "      <td>2015-03-31</td>\n",
              "      <td>812</td>\n",
              "      <td>3.990954</td>\n",
              "      <td>28.515759</td>\n",
              "      <td>2502.600645</td>\n",
              "      <td>56.351613</td>\n",
              "      <td>8.574194</td>\n",
              "      <td>81.290323</td>\n",
              "    </tr>\n",
              "    <tr>\n",
              "      <th>3</th>\n",
              "      <td>2015-04-30</td>\n",
              "      <td>816</td>\n",
              "      <td>5.202246</td>\n",
              "      <td>29.301018</td>\n",
              "      <td>2505.248000</td>\n",
              "      <td>59.270000</td>\n",
              "      <td>9.500000</td>\n",
              "      <td>84.000000</td>\n",
              "    </tr>\n",
              "    <tr>\n",
              "      <th>4</th>\n",
              "      <td>2015-05-31</td>\n",
              "      <td>1414</td>\n",
              "      <td>4.925526</td>\n",
              "      <td>29.372333</td>\n",
              "      <td>2437.535161</td>\n",
              "      <td>58.810000</td>\n",
              "      <td>8.930000</td>\n",
              "      <td>85.000000</td>\n",
              "    </tr>\n",
              "  </tbody>\n",
              "</table>\n",
              "</div>"
            ],
            "text/plain": [
              "  year_month_day  PRODUCTO_ABC1  ...  Tasa_de_desempleo        IPC\n",
              "0     2015-01-31            250  ...          10.790000  83.000000\n",
              "1     2015-02-28            100  ...           9.860000  83.000000\n",
              "2     2015-03-31            812  ...           8.574194  81.290323\n",
              "3     2015-04-30            816  ...           9.500000  84.000000\n",
              "4     2015-05-31           1414  ...           8.930000  85.000000\n",
              "\n",
              "[5 rows x 8 columns]"
            ]
          },
          "metadata": {
            "tags": []
          },
          "execution_count": 243
        }
      ]
    },
    {
      "cell_type": "code",
      "metadata": {
        "id": "ZMX1SH5gIsHf",
        "colab_type": "code",
        "colab": {}
      },
      "source": [
        "df.set_index('year_month_day', inplace=True)"
      ],
      "execution_count": 0,
      "outputs": []
    },
    {
      "cell_type": "markdown",
      "metadata": {
        "id": "53RSM9xsf_MP",
        "colab_type": "text"
      },
      "source": [
        "## **Time Series Forescasting**"
      ]
    },
    {
      "cell_type": "markdown",
      "metadata": {
        "id": "1aDDO_kv_5Jn",
        "colab_type": "text"
      },
      "source": [
        "**Paso 3 :** Solo se analiza la variacion de la cantidad del producto"
      ]
    },
    {
      "cell_type": "code",
      "metadata": {
        "id": "dsgI3NNhgXI0",
        "colab_type": "code",
        "colab": {
          "base_uri": "https://localhost:8080/",
          "height": 235
        },
        "outputId": "a9c2829a-3ab2-4dc9-fdeb-13015418e0bc"
      },
      "source": [
        "df_cant.set_index('year_month_day', inplace=True)\n",
        "df_cant.head()"
      ],
      "execution_count": 245,
      "outputs": [
        {
          "output_type": "execute_result",
          "data": {
            "text/html": [
              "<div>\n",
              "<style scoped>\n",
              "    .dataframe tbody tr th:only-of-type {\n",
              "        vertical-align: middle;\n",
              "    }\n",
              "\n",
              "    .dataframe tbody tr th {\n",
              "        vertical-align: top;\n",
              "    }\n",
              "\n",
              "    .dataframe thead th {\n",
              "        text-align: right;\n",
              "    }\n",
              "</style>\n",
              "<table border=\"1\" class=\"dataframe\">\n",
              "  <thead>\n",
              "    <tr style=\"text-align: right;\">\n",
              "      <th></th>\n",
              "      <th>PRODUCTO_ABC1</th>\n",
              "    </tr>\n",
              "    <tr>\n",
              "      <th>year_month_day</th>\n",
              "      <th></th>\n",
              "    </tr>\n",
              "  </thead>\n",
              "  <tbody>\n",
              "    <tr>\n",
              "      <th>2015-01-31</th>\n",
              "      <td>250</td>\n",
              "    </tr>\n",
              "    <tr>\n",
              "      <th>2015-02-28</th>\n",
              "      <td>100</td>\n",
              "    </tr>\n",
              "    <tr>\n",
              "      <th>2015-03-31</th>\n",
              "      <td>812</td>\n",
              "    </tr>\n",
              "    <tr>\n",
              "      <th>2015-04-30</th>\n",
              "      <td>816</td>\n",
              "    </tr>\n",
              "    <tr>\n",
              "      <th>2015-05-31</th>\n",
              "      <td>1414</td>\n",
              "    </tr>\n",
              "  </tbody>\n",
              "</table>\n",
              "</div>"
            ],
            "text/plain": [
              "                PRODUCTO_ABC1\n",
              "year_month_day               \n",
              "2015-01-31                250\n",
              "2015-02-28                100\n",
              "2015-03-31                812\n",
              "2015-04-30                816\n",
              "2015-05-31               1414"
            ]
          },
          "metadata": {
            "tags": []
          },
          "execution_count": 245
        }
      ]
    },
    {
      "cell_type": "markdown",
      "metadata": {
        "id": "a7r5uPzgAKbq",
        "colab_type": "text"
      },
      "source": [
        "**Paso 4 :** Se visualiza la variación de la cantidad del producto en el tiempo"
      ]
    },
    {
      "cell_type": "code",
      "metadata": {
        "id": "AcHYEWuWgcYV",
        "colab_type": "code",
        "colab": {
          "base_uri": "https://localhost:8080/",
          "height": 312
        },
        "outputId": "30c8c259-fee2-45be-dd13-09793757be8c"
      },
      "source": [
        "df_cant.plot()"
      ],
      "execution_count": 246,
      "outputs": [
        {
          "output_type": "execute_result",
          "data": {
            "text/plain": [
              "<matplotlib.axes._subplots.AxesSubplot at 0x7f6bc3ad80b8>"
            ]
          },
          "metadata": {
            "tags": []
          },
          "execution_count": 246
        },
        {
          "output_type": "display_data",
          "data": {
            "image/png": "[encoded data removed]",
            "text/plain": [
              "<Figure size 432x288 with 1 Axes>"
            ]
          },
          "metadata": {
            "tags": []
          }
        }
      ]
    },
    {
      "cell_type": "markdown",
      "metadata": {
        "id": "tKxxzpj7Ak2V",
        "colab_type": "text"
      },
      "source": [
        "**Paso 5 :** Se analiza la descomposición estacional de las cantidades utilizando medias móviles."
      ]
    },
    {
      "cell_type": "code",
      "metadata": {
        "id": "MCNT0rKJo6qC",
        "colab_type": "code",
        "colab": {}
      },
      "source": [
        "ts = pd.Series(list(df_cant[NAME_PRODUCT]), index=pd.to_datetime(df_cant.index,format='%Y-%m-%d')) "
      ],
      "execution_count": 0,
      "outputs": []
    },
    {
      "cell_type": "code",
      "metadata": {
        "id": "hQIO4Xa5o7E0",
        "colab_type": "code",
        "colab": {}
      },
      "source": [
        "from statsmodels.tsa.seasonal import seasonal_decompose\n",
        "decomposition = seasonal_decompose(ts)"
      ],
      "execution_count": 0,
      "outputs": []
    },
    {
      "cell_type": "code",
      "metadata": {
        "id": "D4JRL_Lpo7SF",
        "colab_type": "code",
        "colab": {
          "base_uri": "https://localhost:8080/",
          "height": 241
        },
        "outputId": "7ad57ff3-1857-433a-e9d8-e9c9eb8c998e"
      },
      "source": [
        "trend = decomposition.trend\n",
        "seasonal = decomposition.seasonal\n",
        "residual = decomposition.resid\n",
        "plt.subplot(411)\n",
        "plt.plot(ts, label='Original')\n",
        "plt.legend(loc='best')\n",
        "plt.subplot(412)\n",
        "plt.plot(trend, label='Trend')\n",
        "plt.legend(loc='best')\n",
        "plt.subplot(413)\n",
        "plt.plot(seasonal,label='Seasonality')\n",
        "plt.legend(loc='best')\n",
        "plt.tight_layout()"
      ],
      "execution_count": 252,
      "outputs": [
        {
          "output_type": "display_data",
          "data": {
            "image/png": "[encoded data removed]",
            "text/plain": [
              "<Figure size 432x288 with 3 Axes>"
            ]
          },
          "metadata": {
            "tags": []
          }
        }
      ]
    },
    {
      "cell_type": "code",
      "metadata": {
        "id": "F2COoABnpZjM",
        "colab_type": "code",
        "colab": {
          "base_uri": "https://localhost:8080/",
          "height": 51
        },
        "outputId": "6a52a816-a1b0-490d-aea4-114b3ae24ab6"
      },
      "source": [
        "import numpy as np\n",
        "from statsmodels.tsa.stattools import adfuller\n",
        "\n",
        "# log transform\n",
        "ts_log = np.log(ts)\n",
        "ts_log = ts_log.replace([np.inf, -np.inf], np.nan)\n",
        "ts_log.dropna(inplace=True) "
      ],
      "execution_count": 18,
      "outputs": [
        {
          "output_type": "stream",
          "text": [
            "/usr/local/lib/python3.6/dist-packages/ipykernel_launcher.py:5: RuntimeWarning: divide by zero encountered in log\n",
            "  \"\"\"\n"
          ],
          "name": "stderr"
        }
      ]
    },
    {
      "cell_type": "markdown",
      "metadata": {
        "id": "s9qv3alsqUuv",
        "colab_type": "text"
      },
      "source": [
        "## **Checking for Stationary**"
      ]
    },
    {
      "cell_type": "code",
      "metadata": {
        "id": "zoCYLHBVpZen",
        "colab_type": "code",
        "colab": {
          "base_uri": "https://localhost:8080/",
          "height": 332
        },
        "outputId": "a9607f82-64dc-4a9c-902f-5a2c5ca44f75"
      },
      "source": [
        "s_test = adfuller(ts_log, autolag='AIC')\n",
        "print(\"Log transform stationary check p value: \", s_test[1])\n",
        "if s_test[1] > 0.05:\n",
        "  print(\"Non stationary\")\n",
        "else:\n",
        "  print(\"Stationary\")\n",
        "\n",
        "#Take first difference:\n",
        "ts_log_diff = ts_log - ts_log.shift()\n",
        "ts_log_diff.dropna(inplace=True)\n",
        "plt.title('Trend removed plot with first order difference') \n",
        "plt.plot(ts_log_diff)\n",
        "plt.ylabel('First order log diff')\n",
        "s_test = adfuller(ts_log_diff, autolag='AIC')\n",
        "print(\"First order difference stationary check p value: \", s_test[1])"
      ],
      "execution_count": 19,
      "outputs": [
        {
          "output_type": "stream",
          "text": [
            "Log transform stationary check p value:  2.261279161489628e-09\n",
            "Stationary\n",
            "First order difference stationary check p value:  1.9975178454504575e-07\n"
          ],
          "name": "stdout"
        },
        {
          "output_type": "display_data",
          "data": {
            "image/png": "[encoded data removed]",
            "text/plain": [
              "<Figure size 432x288 with 1 Axes>"
            ]
          },
          "metadata": {
            "tags": []
          }
        }
      ]
    },
    {
      "cell_type": "markdown",
      "metadata": {
        "id": "S8RiJxuprMq-",
        "colab_type": "text"
      },
      "source": [
        "## **Check autocorrelation**"
      ]
    },
    {
      "cell_type": "code",
      "metadata": {
        "id": "aALqiV7IpZak",
        "colab_type": "code",
        "colab": {
          "base_uri": "https://localhost:8080/",
          "height": 292
        },
        "outputId": "1cafd0a8-6101-4a7e-8418-80a582183932"
      },
      "source": [
        "from statsmodels.graphics.tsaplots import plot_acf,plot_pacf\n",
        "\n",
        "fig, (ax1, ax2) = plt.subplots(1, 2, figsize = (10,3))\n",
        "# ACF chart\n",
        "fig = plot_acf(ts_log_diff.values.squeeze(), lags=20,ax=ax1)\n",
        "# draw 95% confidence interval line\n",
        "ax1.axhline(y=-1.96/np.sqrt(len(ts_log_diff)),linestyle='--',color='gray')\n",
        "ax1.axhline(y=1.96/np.sqrt(len(ts_log_diff)),linestyle='--',color='gray')\n",
        "ax1.set_xlabel('Lags')\n",
        "# PACF chart\n",
        "fig = plot_pacf(ts_log_diff, lags=20, ax=ax2)\n",
        "# draw 95% confidence interval line\n",
        "ax2.axhline(y=-1.96/np.sqrt(len(ts_log_diff)),linestyle='--',color='gray')\n",
        "ax2.axhline(y=1.96/np.sqrt(len(ts_log_diff)),linestyle='--',color='gray')\n",
        "ax2.set_xlabel('Lags')"
      ],
      "execution_count": 20,
      "outputs": [
        {
          "output_type": "stream",
          "text": [
            "/usr/local/lib/python3.6/dist-packages/statsmodels/regression/linear_model.py:1283: RuntimeWarning: invalid value encountered in sqrt\n",
            "  return rho, np.sqrt(sigmasq)\n"
          ],
          "name": "stderr"
        },
        {
          "output_type": "execute_result",
          "data": {
            "text/plain": [
              "Text(0.5, 0, 'Lags')"
            ]
          },
          "metadata": {
            "tags": []
          },
          "execution_count": 20
        },
        {
          "output_type": "display_data",
          "data": {
            "image/png": "[encoded data removed]",
            "text/plain": [
              "<Figure size 720x216 with 2 Axes>"
            ]
          },
          "metadata": {
            "tags": []
          }
        }
      ]
    },
    {
      "cell_type": "code",
      "metadata": {
        "id": "Z8ygoNxppZWa",
        "colab_type": "code",
        "colab": {
          "base_uri": "https://localhost:8080/",
          "height": 71
        },
        "outputId": "d5cfb462-e5b6-42af-ef67-4930f858e4c3"
      },
      "source": [
        "from statsmodels.tsa.arima_model import ARIMA\n",
        "from sklearn.metrics import mean_absolute_error\n",
        "# build model\n",
        "model = ARIMA(ts_log, order=(3,0,2))\n",
        "#model = ARIMA(ts_log, order=(0,1,0))\n",
        "results_ARIMA = model.fit(disp=-1)"
      ],
      "execution_count": 21,
      "outputs": [
        {
          "output_type": "stream",
          "text": [
            "/usr/local/lib/python3.6/dist-packages/statsmodels/tsa/base/tsa_model.py:225: ValueWarning: A date index has been provided, but it has no associated frequency information and so will be ignored when e.g. forecasting.\n",
            "  ' ignored when e.g. forecasting.', ValueWarning)\n"
          ],
          "name": "stderr"
        }
      ]
    },
    {
      "cell_type": "code",
      "metadata": {
        "id": "M1YheT7qs25Q",
        "colab_type": "code",
        "colab": {
          "base_uri": "https://localhost:8080/",
          "height": 329
        },
        "outputId": "3c4a2b54-c67e-45b2-c7a9-116b04d5703e"
      },
      "source": [
        "# ts_predict = results_ARIMA.predict('1965-01-01', '1972-05-01',dynamic=True)\n",
        "ts_predict = results_ARIMA.predict()\n",
        "plt.title('ARIMA Prediction')\n",
        "plt.plot(ts_log, label='Actual')\n",
        "plt.plot(ts_predict, 'r--', label='Predicted')\n",
        "plt.xlabel('Year-Month')\n",
        "plt.ylabel('Quantity')\n",
        "plt.legend(loc='best')\n",
        "print(\"AIC: \", results_ARIMA.aic)\n",
        "print(\"BIC: \", results_ARIMA.bic) "
      ],
      "execution_count": 22,
      "outputs": [
        {
          "output_type": "stream",
          "text": [
            "AIC:  137.36205965464\n",
            "BIC:  150.16254943006365\n"
          ],
          "name": "stdout"
        },
        {
          "output_type": "display_data",
          "data": {
            "image/png": "[encoded data removed]",
            "text/plain": [
              "<Figure size 432x288 with 1 Axes>"
            ]
          },
          "metadata": {
            "tags": []
          }
        }
      ]
    },
    {
      "cell_type": "code",
      "metadata": {
        "id": "SNYaNBx_BLHC",
        "colab_type": "code",
        "colab": {
          "base_uri": "https://localhost:8080/",
          "height": 68
        },
        "outputId": "33cbbb25-ca49-48cb-a19f-769385673efe"
      },
      "source": [
        "from statsmodels.stats.stattools import durbin_watson\n",
        "\n",
        "print(\"Mean Absolute Error: \", mean_absolute_error(ts_log.values, ts_predict.values))\n",
        "print(\"Root Mean Squared Error: \", np.sqrt(mean_squared_error(ts_log.values,ts_predict.values)))\n",
        "print(\"Durbin-Watson statistic :\", durbin_watson(results_ARIMA.resid.values))"
      ],
      "execution_count": 23,
      "outputs": [
        {
          "output_type": "stream",
          "text": [
            "Mean Absolute Error:  0.7067617504244225\n",
            "Root Mean Squared Error:  0.9305053231603021\n",
            "Durbin-Watson statistic : 1.8903119547534695\n"
          ],
          "name": "stdout"
        }
      ]
    },
    {
      "cell_type": "code",
      "metadata": {
        "id": "LQhM4BKss3An",
        "colab_type": "code",
        "colab": {
          "base_uri": "https://localhost:8080/",
          "height": 105
        },
        "outputId": "d3e0a4ac-8e0c-4b61-aab9-2e56cb82ac77"
      },
      "source": [
        "# predict future values\n",
        "#p,d,q  p = periods taken for autoregressive model\n",
        "#d -> Integrated order, difference\n",
        "# q periods in moving average model \n",
        "model = ARIMA(ts_log, order=(3,0,2))\n",
        "results_ARIMA = model.fit(disp=-1)\n",
        "ts_predict = results_ARIMA.predict(start=36,end=48)\n",
        "date_rng = pd.date_range(start='1/12/2018', end='1/1/2021', freq='M')\n",
        "ts_predict.index = date_rng[11:24] \n",
        "#ts_predict = results_ARIMA.predict('2018-12-01', '2019-04-01')"
      ],
      "execution_count": 24,
      "outputs": [
        {
          "output_type": "stream",
          "text": [
            "/usr/local/lib/python3.6/dist-packages/statsmodels/tsa/base/tsa_model.py:225: ValueWarning: A date index has been provided, but it has no associated frequency information and so will be ignored when e.g. forecasting.\n",
            "  ' ignored when e.g. forecasting.', ValueWarning)\n",
            "/usr/local/lib/python3.6/dist-packages/statsmodels/tsa/base/tsa_model.py:531: ValueWarning: No supported index is available. Prediction results will be given with an integer index beginning at `start`.\n",
            "  ValueWarning)\n"
          ],
          "name": "stderr"
        }
      ]
    },
    {
      "cell_type": "code",
      "metadata": {
        "id": "FIm4DLaD4wK_",
        "colab_type": "code",
        "colab": {
          "base_uri": "https://localhost:8080/",
          "height": 238
        },
        "outputId": "e40ca7d0-5dea-4501-ae0e-769840a682ab"
      },
      "source": [
        "for i,val in ts_predict.iteritems():\n",
        "  print(\"En la fecha: {} la cantidad es {} \".format(i,str(round(np.exp([val])[0],2))))"
      ],
      "execution_count": 220,
      "outputs": [
        {
          "output_type": "stream",
          "text": [
            "En la fecha: 2018-12-31 00:00:00 la cantidad es 4636.82 \n",
            "En la fecha: 2019-01-31 00:00:00 la cantidad es 11936.31 \n",
            "En la fecha: 2019-02-28 00:00:00 la cantidad es 8999.48 \n",
            "En la fecha: 2019-03-31 00:00:00 la cantidad es 6940.06 \n",
            "En la fecha: 2019-04-30 00:00:00 la cantidad es 7643.82 \n",
            "En la fecha: 2019-05-31 00:00:00 la cantidad es 7708.78 \n",
            "En la fecha: 2019-06-30 00:00:00 la cantidad es 7835.77 \n",
            "En la fecha: 2019-07-31 00:00:00 la cantidad es 11970.0 \n",
            "En la fecha: 2019-08-31 00:00:00 la cantidad es 4721.21 \n",
            "En la fecha: 2019-09-30 00:00:00 la cantidad es 11338.46 \n",
            "En la fecha: 2019-10-31 00:00:00 la cantidad es 9112.39 \n",
            "En la fecha: 2019-11-30 00:00:00 la cantidad es 5666.5 \n",
            "En la fecha: 2019-12-31 00:00:00 la cantidad es 7994.97 \n"
          ],
          "name": "stdout"
        }
      ]
    },
    {
      "cell_type": "code",
      "metadata": {
        "id": "6KIPTVBus3GC",
        "colab_type": "code",
        "colab": {
          "base_uri": "https://localhost:8080/",
          "height": 312
        },
        "outputId": "b70b7496-b036-458d-f493-b527f973922c"
      },
      "source": [
        "plt.title('ARIMA Future Value Prediction - order(3,0,2)')\n",
        "plt.plot(ts_log, label='Actual')\n",
        "plt.plot(ts_predict, 'r--', label='Predicted')\n",
        "plt.xlabel('Year-Month')\n",
        "plt.ylabel('Quantity')\n",
        "plt.legend(loc='best')"
      ],
      "execution_count": 25,
      "outputs": [
        {
          "output_type": "execute_result",
          "data": {
            "text/plain": [
              "<matplotlib.legend.Legend at 0x7f6be19b5eb8>"
            ]
          },
          "metadata": {
            "tags": []
          },
          "execution_count": 25
        },
        {
          "output_type": "display_data",
          "data": {
            "image/png": "[encoded data removed]",
            "text/plain": [
              "<Figure size 432x288 with 1 Axes>"
            ]
          },
          "metadata": {
            "tags": []
          }
        }
      ]
    },
    {
      "cell_type": "code",
      "metadata": {
        "id": "26PiZdq--aob",
        "colab_type": "code",
        "colab": {}
      },
      "source": [
        ""
      ],
      "execution_count": 0,
      "outputs": []
    },
    {
      "cell_type": "code",
      "metadata": {
        "id": "CN83sP9SOBh0",
        "colab_type": "code",
        "colab": {}
      },
      "source": [
        "from math import sqrt\n",
        "from numpy import concatenate\n",
        "from matplotlib import pyplot\n",
        "from pandas import read_csv\n",
        "from pandas import DataFrame\n",
        "from pandas import concat\n",
        "from sklearn.preprocessing import MinMaxScaler\n",
        "from sklearn.preprocessing import LabelEncoder\n",
        "from sklearn.metrics import mean_squared_error\n",
        "from keras.models import Sequential\n",
        "from keras.layers import Dense\n",
        "from keras.layers import LSTM"
      ],
      "execution_count": 0,
      "outputs": []
    },
    {
      "cell_type": "code",
      "metadata": {
        "id": "rqtObUkbN9H1",
        "colab_type": "code",
        "colab": {}
      },
      "source": [
        "#convert data to supervised form\n",
        "\n",
        "def to_supervised(data,dropNa = True,lag = 1):\n",
        "    df = pd.DataFrame(data)\n",
        "    column = []\n",
        "    column.append(df)\n",
        "    for i in range(1,lag+1):\n",
        "        column.append(df.shift(-i))\n",
        "    df = pd.concat(column,axis=1)\n",
        "    df.dropna(inplace = True)\n",
        "    features = data.shape[1]\n",
        "    df = df.values\n",
        "    supervised_data = df[:,:features*lag]\n",
        "    supervised_data = np.column_stack( [supervised_data, df[:,features*lag]])\n",
        "    return supervised_data"
      ],
      "execution_count": 0,
      "outputs": []
    },
    {
      "cell_type": "code",
      "metadata": {
        "id": "_tuU26b0N9zG",
        "colab_type": "code",
        "colab": {
          "base_uri": "https://localhost:8080/",
          "height": 235
        },
        "outputId": "74e7eff4-3da7-44db-cd9d-5973e282a448"
      },
      "source": [
        "data.head()"
      ],
      "execution_count": 205,
      "outputs": [
        {
          "output_type": "execute_result",
          "data": {
            "text/html": [
              "<div>\n",
              "<style scoped>\n",
              "    .dataframe tbody tr th:only-of-type {\n",
              "        vertical-align: middle;\n",
              "    }\n",
              "\n",
              "    .dataframe tbody tr th {\n",
              "        vertical-align: top;\n",
              "    }\n",
              "\n",
              "    .dataframe thead th {\n",
              "        text-align: right;\n",
              "    }\n",
              "</style>\n",
              "<table border=\"1\" class=\"dataframe\">\n",
              "  <thead>\n",
              "    <tr style=\"text-align: right;\">\n",
              "      <th></th>\n",
              "      <th>PRODUCTO_ABC2</th>\n",
              "      <th>precipitacion</th>\n",
              "      <th>T_Max</th>\n",
              "      <th>TMR</th>\n",
              "      <th>Tasa_de_empleo</th>\n",
              "      <th>Tasa_de_desempleo</th>\n",
              "      <th>IPC</th>\n",
              "    </tr>\n",
              "    <tr>\n",
              "      <th>year_month_day</th>\n",
              "      <th></th>\n",
              "      <th></th>\n",
              "      <th></th>\n",
              "      <th></th>\n",
              "      <th></th>\n",
              "      <th></th>\n",
              "      <th></th>\n",
              "    </tr>\n",
              "  </thead>\n",
              "  <tbody>\n",
              "    <tr>\n",
              "      <th>2015-01-31</th>\n",
              "      <td>1961.40</td>\n",
              "      <td>3.156942</td>\n",
              "      <td>29.172795</td>\n",
              "      <td>2397.258065</td>\n",
              "      <td>56.940000</td>\n",
              "      <td>10.790000</td>\n",
              "      <td>83.000000</td>\n",
              "    </tr>\n",
              "    <tr>\n",
              "      <th>2015-02-28</th>\n",
              "      <td>1372.98</td>\n",
              "      <td>3.004736</td>\n",
              "      <td>29.596166</td>\n",
              "      <td>2420.672500</td>\n",
              "      <td>57.390000</td>\n",
              "      <td>9.860000</td>\n",
              "      <td>83.000000</td>\n",
              "    </tr>\n",
              "    <tr>\n",
              "      <th>2015-03-31</th>\n",
              "      <td>2353.68</td>\n",
              "      <td>3.990954</td>\n",
              "      <td>28.515759</td>\n",
              "      <td>2502.600645</td>\n",
              "      <td>56.351613</td>\n",
              "      <td>8.574194</td>\n",
              "      <td>81.290323</td>\n",
              "    </tr>\n",
              "    <tr>\n",
              "      <th>2015-04-30</th>\n",
              "      <td>6668.76</td>\n",
              "      <td>5.202246</td>\n",
              "      <td>29.301018</td>\n",
              "      <td>2505.248000</td>\n",
              "      <td>59.270000</td>\n",
              "      <td>9.500000</td>\n",
              "      <td>84.000000</td>\n",
              "    </tr>\n",
              "    <tr>\n",
              "      <th>2015-05-31</th>\n",
              "      <td>14318.22</td>\n",
              "      <td>4.925526</td>\n",
              "      <td>29.372333</td>\n",
              "      <td>2437.535161</td>\n",
              "      <td>58.810000</td>\n",
              "      <td>8.930000</td>\n",
              "      <td>85.000000</td>\n",
              "    </tr>\n",
              "  </tbody>\n",
              "</table>\n",
              "</div>"
            ],
            "text/plain": [
              "                PRODUCTO_ABC2  precipitacion  ...  Tasa_de_desempleo        IPC\n",
              "year_month_day                                ...                              \n",
              "2015-01-31            1961.40       3.156942  ...          10.790000  83.000000\n",
              "2015-02-28            1372.98       3.004736  ...           9.860000  83.000000\n",
              "2015-03-31            2353.68       3.990954  ...           8.574194  81.290323\n",
              "2015-04-30            6668.76       5.202246  ...           9.500000  84.000000\n",
              "2015-05-31           14318.22       4.925526  ...           8.930000  85.000000\n",
              "\n",
              "[5 rows x 7 columns]"
            ]
          },
          "metadata": {
            "tags": []
          },
          "execution_count": 205
        }
      ]
    },
    {
      "cell_type": "code",
      "metadata": {
        "id": "49TmcODKJ5Bh",
        "colab_type": "code",
        "outputId": "c20d033e-8f96-418b-ce2a-074ca169829c",
        "colab": {
          "base_uri": "https://localhost:8080/",
          "height": 268
        }
      },
      "source": [
        "groups = [0, 1, 2, 3, 5, 6]\n",
        "values = data.values\n",
        "fig,sub = plt.subplots(3,2)\n",
        "plt.subplots_adjust(wspace=1, hspace=1)\n",
        "\n",
        "for ax, i in zip(sub.flatten(),groups):\n",
        "    ax.plot(values[:,i])\n",
        "    ax.set_xticks(())\n",
        "    ax.set_yticks(())\n",
        "    ax.set_title(data.columns[i])"
      ],
      "execution_count": 227,
      "outputs": [
        {
          "output_type": "display_data",
          "data": {
            "image/png": "[encoded data removed]",
            "text/plain": [
              "<Figure size 432x288 with 6 Axes>"
            ]
          },
          "metadata": {
            "tags": []
          }
        }
      ]
    },
    {
      "cell_type": "code",
      "metadata": {
        "id": "B1U5hPZf2tv4",
        "colab_type": "code",
        "colab": {
          "base_uri": "https://localhost:8080/",
          "height": 85
        },
        "outputId": "fe126c3d-2bef-4282-cae2-11b6bad61ea6"
      },
      "source": [
        "values = data.values\n",
        "values[:2]"
      ],
      "execution_count": 207,
      "outputs": [
        {
          "output_type": "execute_result",
          "data": {
            "text/plain": [
              "array([[1961.4       ,    3.1569425 ,   29.17279486, 2397.258065  ,\n",
              "          56.94      ,   10.79      ,   83.        ],\n",
              "       [1372.98      ,    3.00473603,   29.59616634, 2420.6725    ,\n",
              "          57.39      ,    9.86      ,   83.        ]])"
            ]
          },
          "metadata": {
            "tags": []
          },
          "execution_count": 207
        }
      ]
    },
    {
      "cell_type": "code",
      "metadata": {
        "id": "vcVmvnv6OHIV",
        "colab_type": "code",
        "colab": {
          "base_uri": "https://localhost:8080/",
          "height": 85
        },
        "outputId": "b9a4883f-7bd2-469f-b0ab-0a35b6d4b0fb"
      },
      "source": [
        "# integer encode direction\n",
        "values = values.astype('float32')\n",
        "# normalize features\n",
        "scaler = MinMaxScaler(feature_range=(0, 1))\n",
        "scaled = scaler.fit_transform(values)\n",
        "scaled[:2]"
      ],
      "execution_count": 208,
      "outputs": [
        {
          "output_type": "execute_result",
          "data": {
            "text/plain": [
              "array([[0.08728972, 0.2229397 , 0.4618063 , 0.        , 0.20320892,\n",
              "        0.7706015 , 0.09137917],\n",
              "       [0.0611028 , 0.19788739, 0.6172409 , 0.02444887, 0.28342247,\n",
              "        0.58011866, 0.09137917]], dtype=float32)"
            ]
          },
          "metadata": {
            "tags": []
          },
          "execution_count": 208
        }
      ]
    },
    {
      "cell_type": "code",
      "metadata": {
        "id": "mxAGBpd3OSkd",
        "colab_type": "code",
        "colab": {
          "base_uri": "https://localhost:8080/",
          "height": 204
        },
        "outputId": "68d5635b-b901-40fd-9f04-901530e62c0e"
      },
      "source": [
        "# frame as supervised learning\n",
        "#reframed = series_to_supervised(scaled, 1, 1)\n",
        "\n",
        "#timeSteps = 1\n",
        "supervised = to_supervised(scaled,lag=timeSteps)\n",
        "pd.DataFrame(supervised).head()\n"
      ],
      "execution_count": 190,
      "outputs": [
        {
          "output_type": "execute_result",
          "data": {
            "text/html": [
              "<div>\n",
              "<style scoped>\n",
              "    .dataframe tbody tr th:only-of-type {\n",
              "        vertical-align: middle;\n",
              "    }\n",
              "\n",
              "    .dataframe tbody tr th {\n",
              "        vertical-align: top;\n",
              "    }\n",
              "\n",
              "    .dataframe thead th {\n",
              "        text-align: right;\n",
              "    }\n",
              "</style>\n",
              "<table border=\"1\" class=\"dataframe\">\n",
              "  <thead>\n",
              "    <tr style=\"text-align: right;\">\n",
              "      <th></th>\n",
              "      <th>0</th>\n",
              "      <th>1</th>\n",
              "      <th>2</th>\n",
              "      <th>3</th>\n",
              "      <th>4</th>\n",
              "      <th>5</th>\n",
              "      <th>6</th>\n",
              "      <th>7</th>\n",
              "    </tr>\n",
              "  </thead>\n",
              "  <tbody>\n",
              "    <tr>\n",
              "      <th>0</th>\n",
              "      <td>0.087290</td>\n",
              "      <td>0.222940</td>\n",
              "      <td>0.461806</td>\n",
              "      <td>0.000000</td>\n",
              "      <td>0.203209</td>\n",
              "      <td>0.770602</td>\n",
              "      <td>0.091379</td>\n",
              "      <td>0.061103</td>\n",
              "    </tr>\n",
              "    <tr>\n",
              "      <th>1</th>\n",
              "      <td>0.061103</td>\n",
              "      <td>0.197887</td>\n",
              "      <td>0.617241</td>\n",
              "      <td>0.024449</td>\n",
              "      <td>0.283422</td>\n",
              "      <td>0.580119</td>\n",
              "      <td>0.091379</td>\n",
              "      <td>0.104748</td>\n",
              "    </tr>\n",
              "    <tr>\n",
              "      <th>2</th>\n",
              "      <td>0.104748</td>\n",
              "      <td>0.360213</td>\n",
              "      <td>0.220586</td>\n",
              "      <td>0.109996</td>\n",
              "      <td>0.098327</td>\n",
              "      <td>0.316760</td>\n",
              "      <td>0.000000</td>\n",
              "      <td>0.296785</td>\n",
              "    </tr>\n",
              "    <tr>\n",
              "      <th>3</th>\n",
              "      <td>0.296785</td>\n",
              "      <td>0.559585</td>\n",
              "      <td>0.508882</td>\n",
              "      <td>0.112760</td>\n",
              "      <td>0.618539</td>\n",
              "      <td>0.506384</td>\n",
              "      <td>0.144827</td>\n",
              "      <td>0.637215</td>\n",
              "    </tr>\n",
              "    <tr>\n",
              "      <th>4</th>\n",
              "      <td>0.637215</td>\n",
              "      <td>0.514038</td>\n",
              "      <td>0.535064</td>\n",
              "      <td>0.042056</td>\n",
              "      <td>0.536542</td>\n",
              "      <td>0.389636</td>\n",
              "      <td>0.198276</td>\n",
              "      <td>0.331701</td>\n",
              "    </tr>\n",
              "  </tbody>\n",
              "</table>\n",
              "</div>"
            ],
            "text/plain": [
              "          0         1         2  ...         5         6         7\n",
              "0  0.087290  0.222940  0.461806  ...  0.770602  0.091379  0.061103\n",
              "1  0.061103  0.197887  0.617241  ...  0.580119  0.091379  0.104748\n",
              "2  0.104748  0.360213  0.220586  ...  0.316760  0.000000  0.296785\n",
              "3  0.296785  0.559585  0.508882  ...  0.506384  0.144827  0.637215\n",
              "4  0.637215  0.514038  0.535064  ...  0.389636  0.198276  0.331701\n",
              "\n",
              "[5 rows x 8 columns]"
            ]
          },
          "metadata": {
            "tags": []
          },
          "execution_count": 190
        }
      ]
    },
    {
      "cell_type": "code",
      "metadata": {
        "id": "Af6MzUTPuVhY",
        "colab_type": "code",
        "colab": {
          "base_uri": "https://localhost:8080/",
          "height": 34
        },
        "outputId": "22d1f96a-ff5f-450f-ca3b-0cc0776f4954"
      },
      "source": [
        "features = data.shape[1]\n",
        "train_hours = 35\n",
        "X = supervised[:,:features*timeSteps]\n",
        "y = supervised[:,features*timeSteps]\n",
        "\n",
        "x_train = X[:train_hours,:]\n",
        "x_test = X[train_hours:,:]\n",
        "y_train = y[:train_hours]\n",
        "y_test = y[train_hours:]\n",
        "\n",
        "print(x_train.shape,x_test.shape,y_train.shape,y_test.shape)"
      ],
      "execution_count": 194,
      "outputs": [
        {
          "output_type": "stream",
          "text": [
            "(35, 7) (12, 7) (35,) (12,)\n"
          ],
          "name": "stdout"
        }
      ]
    },
    {
      "cell_type": "code",
      "metadata": {
        "id": "4zfKZM7vuVzT",
        "colab_type": "code",
        "colab": {
          "base_uri": "https://localhost:8080/",
          "height": 34
        },
        "outputId": "a62cea88-aa7c-487e-f71d-7bd3aea0c652"
      },
      "source": [
        "x_train = x_train.reshape(x_train.shape[0], timeSteps, features)\n",
        "x_test = x_test.reshape(x_test.shape[0], timeSteps, features)\n",
        "\n",
        "print(x_train.shape,x_test.shape)"
      ],
      "execution_count": 195,
      "outputs": [
        {
          "output_type": "stream",
          "text": [
            "(35, 1, 7) (12, 1, 7)\n"
          ],
          "name": "stdout"
        }
      ]
    },
    {
      "cell_type": "code",
      "metadata": {
        "id": "oDVejEe6urne",
        "colab_type": "code",
        "colab": {}
      },
      "source": [
        "#define the model\n",
        "\n",
        "model = Sequential()\n",
        "model.add( LSTM( 50, input_shape = ( timeSteps,x_train.shape[2]) ) )\n",
        "model.add( Dense(1) )\n",
        "\n",
        "model.compile( loss = \"mae\", optimizer = \"adam\")\n",
        "\n",
        "history =  model.fit( x_train,y_train, validation_data = (x_test,y_test), epochs = 50 , batch_size = 72, verbose = 0, shuffle = False)"
      ],
      "execution_count": 0,
      "outputs": []
    },
    {
      "cell_type": "code",
      "metadata": {
        "id": "u3xX0cNuurz_",
        "colab_type": "code",
        "colab": {
          "base_uri": "https://localhost:8080/",
          "height": 268
        },
        "outputId": "df4b27d5-71e2-483a-d901-c6fc38896014"
      },
      "source": [
        "plt.plot(history.history['loss'], label='train')\n",
        "plt.plot(history.history['val_loss'], label='test')\n",
        "plt.legend()\n",
        "plt.yticks([])\n",
        "plt.xticks([])\n",
        "plt.title(\"loss during training\")\n",
        "plt.show()"
      ],
      "execution_count": 197,
      "outputs": [
        {
          "output_type": "display_data",
          "data": {
            "image/png": "[encoded data removed]",
            "text/plain": [
              "<Figure size 432x288 with 1 Axes>"
            ]
          },
          "metadata": {
            "tags": []
          }
        }
      ]
    },
    {
      "cell_type": "code",
      "metadata": {
        "id": "FI0_5fgiusCI",
        "colab_type": "code",
        "colab": {}
      },
      "source": [
        "#scale back the prediction to orginal scale\n",
        "y_pred = model.predict(x_test)\n",
        "x_test = x_test.reshape(x_test.shape[0],x_test.shape[2]*x_test.shape[1]) "
      ],
      "execution_count": 0,
      "outputs": []
    },
    {
      "cell_type": "code",
      "metadata": {
        "id": "Li1XyCwavDfK",
        "colab_type": "code",
        "colab": {}
      },
      "source": [
        "inv_new = np.concatenate( (y_pred, x_test[:,1:] ) , axis =1)\n",
        "inv_new = scaler.inverse_transform(inv_new)\n",
        "final_pred = inv_new[:,0]"
      ],
      "execution_count": 0,
      "outputs": []
    },
    {
      "cell_type": "code",
      "metadata": {
        "id": "2snlLZ-VvDvs",
        "colab_type": "code",
        "colab": {}
      },
      "source": [
        "y_test = y_test.reshape( len(y_test), 1)\n",
        "inv_new = np.concatenate( (y_test, x_test[:,1:] ) ,axis = 1)\n",
        "inv_new = scaler.inverse_transform(inv_new)\n",
        "actual_pred = inv_new[:,0]"
      ],
      "execution_count": 0,
      "outputs": []
    },
    {
      "cell_type": "code",
      "metadata": {
        "id": "-pOhmhrrwnfb",
        "colab_type": "code",
        "colab": {
          "base_uri": "https://localhost:8080/",
          "height": 68
        },
        "outputId": "50959a4b-af9a-4c6f-96bd-ee32b61fd2cf"
      },
      "source": [
        "final_pred"
      ],
      "execution_count": 202,
      "outputs": [
        {
          "output_type": "execute_result",
          "data": {
            "text/plain": [
              "array([12234.052, 10855.479,  9629.324,  9291.738, 12546.732, 13767.583,\n",
              "       11250.063, 10002.223, 13149.78 , 11712.474, 15847.196, 12650.315],\n",
              "      dtype=float32)"
            ]
          },
          "metadata": {
            "tags": []
          },
          "execution_count": 202
        }
      ]
    },
    {
      "cell_type": "code",
      "metadata": {
        "id": "nuLJ3JizwpNu",
        "colab_type": "code",
        "colab": {
          "base_uri": "https://localhost:8080/",
          "height": 68
        },
        "outputId": "4b28559f-68c2-481f-b345-06b4b3fbf8c0"
      },
      "source": [
        "actual_pred"
      ],
      "execution_count": 203,
      "outputs": [
        {
          "output_type": "execute_result",
          "data": {
            "text/plain": [
              "array([14906.639 ,  7845.6   ,  2353.68  , 17260.32  , 17456.46  ,\n",
              "        9610.86  ,  1569.1199, 19614.    ,  3530.5198, 19494.72  ,\n",
              "        8820.    , 22470.    ], dtype=float32)"
            ]
          },
          "metadata": {
            "tags": []
          },
          "execution_count": 203
        }
      ]
    },
    {
      "cell_type": "code",
      "metadata": {
        "id": "00rdAjzzvDq1",
        "colab_type": "code",
        "colab": {
          "base_uri": "https://localhost:8080/",
          "height": 298
        },
        "outputId": "4989b2b9-81a3-4b0c-d717-cbbdf2c1a1cb"
      },
      "source": [
        "plt.plot(final_pred, label = \"prediction\",c = \"b\")\n",
        "plt.plot(actual_pred,label = \"actual data\",c=\"r\")\n",
        "plt.title(\"comparison between prediction and actual data\")\n",
        "plt.legend()"
      ],
      "execution_count": 204,
      "outputs": [
        {
          "output_type": "execute_result",
          "data": {
            "text/plain": [
              "<matplotlib.legend.Legend at 0x7f6bc3fc0e48>"
            ]
          },
          "metadata": {
            "tags": []
          },
          "execution_count": 204
        },
        {
          "output_type": "display_data",
          "data": {
            "image/png": "[encoded data removed]",
            "text/plain": [
              "<Figure size 432x288 with 1 Axes>"
            ]
          },
          "metadata": {
            "tags": []
          }
        }
      ]
    },
    {
      "cell_type": "code",
      "metadata": {
        "id": "-0AiYZ3RvDmd",
        "colab_type": "code",
        "colab": {}
      },
      "source": [
        ""
      ],
      "execution_count": 0,
      "outputs": []
    },
    {
      "cell_type": "code",
      "metadata": {
        "id": "xQL_x2UIusLO",
        "colab_type": "code",
        "colab": {}
      },
      "source": [
        ""
      ],
      "execution_count": 0,
      "outputs": []
    },
    {
      "cell_type": "code",
      "metadata": {
        "id": "j6srZSRUsboy",
        "colab_type": "code",
        "colab": {}
      },
      "source": [
        ""
      ],
      "execution_count": 0,
      "outputs": []
    }
  ]
}