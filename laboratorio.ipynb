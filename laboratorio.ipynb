{
  "nbformat": 4,
  "nbformat_minor": 0,
  "metadata": {
    "colab": {
      "name": "laboratorio.ipynb",
      "version": "0.3.2",
      "provenance": [],
      "include_colab_link": true
    },
    "kernelspec": {
      "name": "python3",
      "display_name": "Python 3"
    }
  },
  "cells": [
    {
      "cell_type": "markdown",
      "metadata": {
        "id": "view-in-github",
        "colab_type": "text"
      },
      "source": [
        "<a href=\"https://colab.research.google.com/github/joenvihe/ejemplos_machine_learning/blob/master/laboratorio.ipynb\" target=\"_parent\"><img src=\"https://colab.research.google.com/assets/colab-badge.svg\" alt=\"Open In Colab\"/></a>"
      ]
    },
    {
      "cell_type": "markdown",
      "metadata": {
        "id": "QNyfKAYDM0Od",
        "colab_type": "text"
      },
      "source": [
        "# **LABORATORIO NLTK**"
      ]
    },
    {
      "cell_type": "markdown",
      "metadata": {
        "id": "7HNzt0HQoXcS",
        "colab_type": "text"
      },
      "source": [
        "Antes de iniciar el laboratorio cargamos la data que tenemos del google drive"
      ]
    },
    {
      "cell_type": "code",
      "metadata": {
        "id": "sZ_wMOt5l2Gy",
        "colab_type": "code",
        "colab": {
          "base_uri": "https://localhost:8080/",
          "height": 122
        },
        "outputId": "1943571f-992b-4d98-a624-52073abe59b0"
      },
      "source": [
        "from google.colab import drive\n",
        "drive.mount('/content/drive')"
      ],
      "execution_count": 75,
      "outputs": [
        {
          "output_type": "stream",
          "text": [
            "Go to this URL in a browser: https://accounts.google.com/o/oauth2/auth?client_id=947318989803-6bn6qk8qdgf4n4g3pfee6491hc0brc4i.apps.googleusercontent.com&redirect_uri=urn%3Aietf%3Awg%3Aoauth%3A2.0%3Aoob&scope=email%20https%3A%2F%2Fwww.googleapis.com%2Fauth%2Fdocs.test%20https%3A%2F%2Fwww.googleapis.com%2Fauth%2Fdrive%20https%3A%2F%2Fwww.googleapis.com%2Fauth%2Fdrive.photos.readonly%20https%3A%2F%2Fwww.googleapis.com%2Fauth%2Fpeopleapi.readonly&response_type=code\n",
            "\n",
            "Enter your authorization code:\n",
            "··········\n",
            "Mounted at /content/drive\n"
          ],
          "name": "stdout"
        }
      ]
    },
    {
      "cell_type": "code",
      "metadata": {
        "id": "MFA8kiTqoNdn",
        "colab_type": "code",
        "colab": {
          "base_uri": "https://localhost:8080/",
          "height": 34
        },
        "outputId": "742d80af-65a9-41a6-f7a5-38ef127d9d02"
      },
      "source": [
        "%cd /content/drive/'My Drive'/personal/NLP "
      ],
      "execution_count": 78,
      "outputs": [
        {
          "output_type": "stream",
          "text": [
            "/content/drive/My Drive/personal/NLP\n"
          ],
          "name": "stdout"
        }
      ]
    },
    {
      "cell_type": "markdown",
      "metadata": {
        "id": "SAn99M0sM5nU",
        "colab_type": "text"
      },
      "source": [
        "### **PASO 0:** Descargar el wordnet"
      ]
    },
    {
      "cell_type": "code",
      "metadata": {
        "id": "AoFfwn6UMqn2",
        "colab_type": "code",
        "colab": {
          "base_uri": "https://localhost:8080/",
          "height": 68
        },
        "outputId": "ea6bb82a-2154-4270-df7e-a57f91c77e0b"
      },
      "source": [
        "# \n",
        "import nltk\n",
        "nltk.download('wordnet')"
      ],
      "execution_count": 4,
      "outputs": [
        {
          "output_type": "stream",
          "text": [
            "[nltk_data] Downloading package wordnet to /root/nltk_data...\n",
            "[nltk_data]   Unzipping corpora/wordnet.zip.\n"
          ],
          "name": "stdout"
        },
        {
          "output_type": "execute_result",
          "data": {
            "text/plain": [
              "True"
            ]
          },
          "metadata": {
            "tags": []
          },
          "execution_count": 4
        }
      ]
    },
    {
      "cell_type": "code",
      "metadata": {
        "id": "lhltqOUvLfSb",
        "colab_type": "code",
        "colab": {}
      },
      "source": [
        "from nltk.corpus import wordnet as wn"
      ],
      "execution_count": 0,
      "outputs": []
    },
    {
      "cell_type": "markdown",
      "metadata": {
        "id": "pWopO8xOMNLH",
        "colab_type": "text"
      },
      "source": [
        "### **PASO 1:** Obteniendo los synset de las palabras mosquito, tsetse, housefly, spider y cockroach"
      ]
    },
    {
      "cell_type": "code",
      "metadata": {
        "id": "oQavqmCCLi_p",
        "colab_type": "code",
        "colab": {
          "base_uri": "https://localhost:8080/",
          "height": 34
        },
        "outputId": "77b0281d-0508-4f8d-a540-b79118b8ff1a"
      },
      "source": [
        "#mosquito\n",
        "wn_mosquito = wn.synsets('mosquito') \n",
        "print(wn_mosquito)"
      ],
      "execution_count": 12,
      "outputs": [
        {
          "output_type": "stream",
          "text": [
            "[Synset('mosquito.n.01')]\n"
          ],
          "name": "stdout"
        }
      ]
    },
    {
      "cell_type": "code",
      "metadata": {
        "id": "HZyxg1_LMmrU",
        "colab_type": "code",
        "colab": {
          "base_uri": "https://localhost:8080/",
          "height": 34
        },
        "outputId": "175876cd-c23d-4e4e-e6c4-325f662223f5"
      },
      "source": [
        "#tsetse\n",
        "wn_tsetse = wn.synsets('tsetse') \n",
        "print(wn_tsetse)"
      ],
      "execution_count": 13,
      "outputs": [
        {
          "output_type": "stream",
          "text": [
            "[Synset('tsetse_fly.n.01')]\n"
          ],
          "name": "stdout"
        }
      ]
    },
    {
      "cell_type": "code",
      "metadata": {
        "id": "tkGxNHq9NEVF",
        "colab_type": "code",
        "colab": {
          "base_uri": "https://localhost:8080/",
          "height": 34
        },
        "outputId": "152156bf-98c8-4a52-8209-8de1575d5579"
      },
      "source": [
        "#housefly\n",
        "wn_housefly = wn.synsets('housefly') \n",
        "print(wn_housefly)"
      ],
      "execution_count": 14,
      "outputs": [
        {
          "output_type": "stream",
          "text": [
            "[Synset('housefly.n.01')]\n"
          ],
          "name": "stdout"
        }
      ]
    },
    {
      "cell_type": "code",
      "metadata": {
        "id": "A3fGA-zFNI2u",
        "colab_type": "code",
        "colab": {
          "base_uri": "https://localhost:8080/",
          "height": 34
        },
        "outputId": "d371ed74-44ea-4033-9fa9-f910532cc3b3"
      },
      "source": [
        "#spider\n",
        "wn_spider = wn.synsets('spider') \n",
        "print(wn_spider)"
      ],
      "execution_count": 15,
      "outputs": [
        {
          "output_type": "stream",
          "text": [
            "[Synset('spider.n.01'), Synset('spider.n.02'), Synset('spider.n.03')]\n"
          ],
          "name": "stdout"
        }
      ]
    },
    {
      "cell_type": "code",
      "metadata": {
        "id": "KoddfNr9NMGX",
        "colab_type": "code",
        "colab": {
          "base_uri": "https://localhost:8080/",
          "height": 34
        },
        "outputId": "dc3f15f4-1c9f-4f41-8e8d-4d23b0dc9313"
      },
      "source": [
        "#cockroach\n",
        "wn_cockroach = wn.synsets('cockroach')\n",
        "print(wn_cockroach)"
      ],
      "execution_count": 16,
      "outputs": [
        {
          "output_type": "stream",
          "text": [
            "[Synset('cockroach.n.01')]\n"
          ],
          "name": "stdout"
        }
      ]
    },
    {
      "cell_type": "markdown",
      "metadata": {
        "id": "FFgaXHdSN8Zg",
        "colab_type": "text"
      },
      "source": [
        "### **PASO 2**: Obteniendo sentido de las palabras mosquito, tsetse, housefly, spider y cockroach"
      ]
    },
    {
      "cell_type": "markdown",
      "metadata": {
        "id": "VoA0iN7ePeFI",
        "colab_type": "text"
      },
      "source": [
        "Definicion para la palabra MOSQUITO"
      ]
    },
    {
      "cell_type": "code",
      "metadata": {
        "id": "3RDGDtwoNRXX",
        "colab_type": "code",
        "colab": {
          "base_uri": "https://localhost:8080/",
          "height": 85
        },
        "outputId": "7e171498-003f-4f12-e222-d07dce39b88f"
      },
      "source": [
        "for i,val in enumerate(wn_mosquito):\n",
        "  print(\"\"\"\n",
        "        Nombre Synset:{} \n",
        "        Definicion:{} \n",
        "        \"\"\".format(val.name(),val.definition()) )"
      ],
      "execution_count": 22,
      "outputs": [
        {
          "output_type": "stream",
          "text": [
            "\n",
            "        Nombre Synset:mosquito.n.01 \n",
            "        Definicion:two-winged insect whose female has a long proboscis to pierce the skin and suck the blood of humans and animals \n",
            "        \n"
          ],
          "name": "stdout"
        }
      ]
    },
    {
      "cell_type": "markdown",
      "metadata": {
        "id": "9O7M3qFvPkmU",
        "colab_type": "text"
      },
      "source": [
        "Definicion para la palabra tsetse"
      ]
    },
    {
      "cell_type": "code",
      "metadata": {
        "id": "2YW9BGkhP1Ni",
        "colab_type": "code",
        "colab": {
          "base_uri": "https://localhost:8080/",
          "height": 85
        },
        "outputId": "192803fb-6731-473b-b2d7-e293ea006d4f"
      },
      "source": [
        "for i,val in enumerate(wn_tsetse):\n",
        "  print(\"\"\"\n",
        "        Nombre Synset:{} \n",
        "        Definicion:{} \n",
        "        \"\"\".format(val.name(),val.definition()) )"
      ],
      "execution_count": 23,
      "outputs": [
        {
          "output_type": "stream",
          "text": [
            "\n",
            "        Nombre Synset:tsetse_fly.n.01 \n",
            "        Definicion:bloodsucking African fly; transmits sleeping sickness etc. \n",
            "        \n"
          ],
          "name": "stdout"
        }
      ]
    },
    {
      "cell_type": "markdown",
      "metadata": {
        "id": "S2d64_3dPoJk",
        "colab_type": "text"
      },
      "source": [
        "Definicion para la palabra housefly"
      ]
    },
    {
      "cell_type": "code",
      "metadata": {
        "id": "8oDuxuxMP8NE",
        "colab_type": "code",
        "colab": {
          "base_uri": "https://localhost:8080/",
          "height": 85
        },
        "outputId": "8d8325d8-b197-4ad2-fc42-74a2f6e15f69"
      },
      "source": [
        "for i,val in enumerate(wn_housefly):\n",
        "  print(\"\"\"\n",
        "        Nombre Synset:{} \n",
        "        Definicion:{} \n",
        "        \"\"\".format(val.name(),val.definition()) )"
      ],
      "execution_count": 24,
      "outputs": [
        {
          "output_type": "stream",
          "text": [
            "\n",
            "        Nombre Synset:housefly.n.01 \n",
            "        Definicion:common fly that frequents human habitations and spreads many diseases \n",
            "        \n"
          ],
          "name": "stdout"
        }
      ]
    },
    {
      "cell_type": "markdown",
      "metadata": {
        "id": "vzW1TGSzPs_g",
        "colab_type": "text"
      },
      "source": [
        "Definicion para la palabra spider"
      ]
    },
    {
      "cell_type": "code",
      "metadata": {
        "id": "cOoP8vi8QBvG",
        "colab_type": "code",
        "colab": {
          "base_uri": "https://localhost:8080/",
          "height": 241
        },
        "outputId": "940d1e73-6691-4d79-9953-a40787af0c1e"
      },
      "source": [
        "for i,val in enumerate(wn_spider):\n",
        "  print(\"\"\"\n",
        "        Nombre Synset:{} \n",
        "        Definicion:{} \n",
        "        \"\"\".format(val.name(),val.definition()) )"
      ],
      "execution_count": 25,
      "outputs": [
        {
          "output_type": "stream",
          "text": [
            "\n",
            "        Nombre Synset:spider.n.01 \n",
            "        Definicion:predatory arachnid with eight legs, two poison fangs, two feelers, and usually two silk-spinning organs at the back end of the body; they spin silk to make cocoons for eggs or traps for prey \n",
            "        \n",
            "\n",
            "        Nombre Synset:spider.n.02 \n",
            "        Definicion:a computer program that prowls the internet looking for publicly accessible resources that can be added to a database; the database can then be searched with a search engine \n",
            "        \n",
            "\n",
            "        Nombre Synset:spider.n.03 \n",
            "        Definicion:a skillet made of cast iron \n",
            "        \n"
          ],
          "name": "stdout"
        }
      ]
    },
    {
      "cell_type": "markdown",
      "metadata": {
        "id": "qK1FuQFYPu44",
        "colab_type": "text"
      },
      "source": [
        "Definicion para la palabra cockroach"
      ]
    },
    {
      "cell_type": "code",
      "metadata": {
        "id": "UrjCWO_vOpvf",
        "colab_type": "code",
        "colab": {
          "base_uri": "https://localhost:8080/",
          "height": 85
        },
        "outputId": "632b70bd-2cd5-4827-9ffd-233f12172ebb"
      },
      "source": [
        "for i,val in enumerate(wn_cockroach):\n",
        "  print(\"\"\"\n",
        "        Nombre Synset:{} \n",
        "        Definicion:{} \n",
        "        \"\"\".format(val.name(),val.definition()) )"
      ],
      "execution_count": 26,
      "outputs": [
        {
          "output_type": "stream",
          "text": [
            "\n",
            "        Nombre Synset:cockroach.n.01 \n",
            "        Definicion:any of numerous chiefly nocturnal insects; some are domestic pests \n",
            "        \n"
          ],
          "name": "stdout"
        }
      ]
    },
    {
      "cell_type": "markdown",
      "metadata": {
        "id": "QkAzO3amQphj",
        "colab_type": "text"
      },
      "source": [
        "\n",
        "### **PASO 3**:  Que palabras tiene mas de un synset?\n",
        "\n",
        "La palabra que tiene mas de un synset es **SPIDER**"
      ]
    },
    {
      "cell_type": "markdown",
      "metadata": {
        "id": "t2pxWwOwQ269",
        "colab_type": "text"
      },
      "source": [
        "### **PASO 4:**Que synset de spider tiene mayor similaridad a las otras palabras?"
      ]
    },
    {
      "cell_type": "markdown",
      "metadata": {
        "id": "ejKDUyOxUq5j",
        "colab_type": "text"
      },
      "source": [
        "Se compara la similaridad entre los sentidos de las palabras y se elige el que tenga mayor parecido "
      ]
    },
    {
      "cell_type": "code",
      "metadata": {
        "id": "t6Jnt55oQHkD",
        "colab_type": "code",
        "colab": {
          "base_uri": "https://localhost:8080/",
          "height": 272
        },
        "outputId": "eb5296d2-49d3-4d75-dcdc-cc4649347b3b"
      },
      "source": [
        "for val in wn_spider: \n",
        "  print(\"Nombre: {}\".format(val.name()))\n",
        "  print(val.path_similarity(wn_mosquito[0])) \n",
        "  print(val.path_similarity(wn_tsetse[0]) )\n",
        "  print(val.path_similarity(wn_housefly[0]) )\n",
        "  print(val.path_similarity(wn_cockroach[0]) )\n"
      ],
      "execution_count": 34,
      "outputs": [
        {
          "output_type": "stream",
          "text": [
            "Nombre: spider.n.01\n",
            "0.16666666666666666\n",
            "0.14285714285714285\n",
            "0.14285714285714285\n",
            "0.16666666666666666\n",
            "Nombre: spider.n.02\n",
            "0.047619047619047616\n",
            "0.045454545454545456\n",
            "0.045454545454545456\n",
            "0.047619047619047616\n",
            "Nombre: spider.n.03\n",
            "0.05555555555555555\n",
            "0.05263157894736842\n",
            "0.05263157894736842\n",
            "0.05555555555555555\n"
          ],
          "name": "stdout"
        }
      ]
    },
    {
      "cell_type": "markdown",
      "metadata": {
        "id": "WGdNnvAtUJLE",
        "colab_type": "text"
      },
      "source": [
        "**RESULTADOO:** Se identifico que el synset **spider.n.01** tiene mayor similaridad a las demas palabras"
      ]
    },
    {
      "cell_type": "markdown",
      "metadata": {
        "id": "hbLlwxQUovC5",
        "colab_type": "text"
      },
      "source": [
        "### **PASO 5:** Palabras sinonimos del synset"
      ]
    },
    {
      "cell_type": "markdown",
      "metadata": {
        "id": "T2MtNwz4pQlW",
        "colab_type": "text"
      },
      "source": [
        "Se muestra los sinonimos de los synset mosquito.n.01,\ttsetse_fly.n.01,\thousefly.n.01,\tcockroach.n.01,\tspider.n.01"
      ]
    },
    {
      "cell_type": "code",
      "metadata": {
        "id": "qWZ6ge4OpGAz",
        "colab_type": "code",
        "colab": {
          "base_uri": "https://localhost:8080/",
          "height": 476
        },
        "outputId": "557ec552-ee9e-4c5c-c8b3-510737568a8d"
      },
      "source": [
        "\n",
        "arr_synset  = [wn_mosquito[0],wn_tsetse[0],wn_housefly[0],wn_spider[0],wn_cockroach[0]]\n",
        "for syn in arr_synset:\n",
        "  print(\"---------------------------\")\n",
        "  print(\"Name:{}\".format(syn.name()))\n",
        "  print(\"Sinonimos:\")\n",
        "  for lemma in syn.lemmas():\n",
        "    print(lemma.name())"
      ],
      "execution_count": 80,
      "outputs": [
        {
          "output_type": "stream",
          "text": [
            "---------------------------\n",
            "Name:mosquito.n.01\n",
            "Sinonimos:\n",
            "mosquito\n",
            "---------------------------\n",
            "Name:tsetse_fly.n.01\n",
            "Sinonimos:\n",
            "tsetse_fly\n",
            "tsetse\n",
            "tzetze_fly\n",
            "tzetze\n",
            "glossina\n",
            "---------------------------\n",
            "Name:housefly.n.01\n",
            "Sinonimos:\n",
            "housefly\n",
            "house_fly\n",
            "Musca_domestica\n",
            "---------------------------\n",
            "Name:spider.n.01\n",
            "Sinonimos:\n",
            "spider\n",
            "---------------------------\n",
            "Name:cockroach.n.01\n",
            "Sinonimos:\n",
            "cockroach\n",
            "roach\n"
          ],
          "name": "stdout"
        }
      ]
    },
    {
      "cell_type": "markdown",
      "metadata": {
        "id": "qZvzJb2Qp6e4",
        "colab_type": "text"
      },
      "source": [
        "### PASO 6: Se obtiene los hiperonimos de cada synset y sus jerarquias hasta el nivel 4 donde tienen el mismo padre"
      ]
    },
    {
      "cell_type": "markdown",
      "metadata": {
        "id": "9tGeOklTqIoI",
        "colab_type": "text"
      },
      "source": [
        "El padre en comun es el synset **arthropod.n.01**"
      ]
    },
    {
      "cell_type": "code",
      "metadata": {
        "id": "4grITe2NTHN9",
        "colab_type": "code",
        "colab": {
          "base_uri": "https://localhost:8080/",
          "height": 867
        },
        "outputId": "c45dd7e9-567d-409c-ed18-a540f71c4ea5"
      },
      "source": [
        "arr_synset  = [wn_mosquito[0],wn_tsetse[0],wn_housefly[0],wn_spider[0],wn_cockroach[0]]\n",
        "\n",
        "for i in arr_synset:\n",
        "  print(\"----------------------------------------\")\n",
        "  print(\"NOMBRE {}\".format(i.name()))\n",
        "  print(\"NIVEL 1 :\")\n",
        "  print(i.hypernyms())\n",
        "  for j in i.hypernyms():\n",
        "    print(\"NIVEL 2 :\")\n",
        "    print(j.hypernyms())\n",
        "    for k in j.hypernyms():\n",
        "        print(\"NIVEL 3 :\")\n",
        "        print(k.hypernyms())\n",
        "        for l in k.hypernyms():\n",
        "          print(\"NIVEL 4 :\")\n",
        "          print(l.hypernyms())"
      ],
      "execution_count": 73,
      "outputs": [
        {
          "output_type": "stream",
          "text": [
            "----------------------------------------\n",
            "NOMBRE mosquito.n.01\n",
            "NIVEL 1 :\n",
            "[Synset('dipterous_insect.n.01')]\n",
            "NIVEL 2 :\n",
            "[Synset('insect.n.01')]\n",
            "NIVEL 3 :\n",
            "[Synset('arthropod.n.01')]\n",
            "NIVEL 4 :\n",
            "[Synset('invertebrate.n.01')]\n",
            "----------------------------------------\n",
            "NOMBRE tsetse_fly.n.01\n",
            "NIVEL 1 :\n",
            "[Synset('fly.n.01')]\n",
            "NIVEL 2 :\n",
            "[Synset('dipterous_insect.n.01')]\n",
            "NIVEL 3 :\n",
            "[Synset('insect.n.01')]\n",
            "NIVEL 4 :\n",
            "[Synset('arthropod.n.01')]\n",
            "----------------------------------------\n",
            "NOMBRE housefly.n.01\n",
            "NIVEL 1 :\n",
            "[Synset('fly.n.01')]\n",
            "NIVEL 2 :\n",
            "[Synset('dipterous_insect.n.01')]\n",
            "NIVEL 3 :\n",
            "[Synset('insect.n.01')]\n",
            "NIVEL 4 :\n",
            "[Synset('arthropod.n.01')]\n",
            "----------------------------------------\n",
            "NOMBRE spider.n.01\n",
            "NIVEL 1 :\n",
            "[Synset('arachnid.n.01')]\n",
            "NIVEL 2 :\n",
            "[Synset('arthropod.n.01')]\n",
            "NIVEL 3 :\n",
            "[Synset('invertebrate.n.01')]\n",
            "NIVEL 4 :\n",
            "[Synset('animal.n.01')]\n",
            "----------------------------------------\n",
            "NOMBRE cockroach.n.01\n",
            "NIVEL 1 :\n",
            "[Synset('dictyopterous_insect.n.01')]\n",
            "NIVEL 2 :\n",
            "[Synset('insect.n.01')]\n",
            "NIVEL 3 :\n",
            "[Synset('arthropod.n.01')]\n",
            "NIVEL 4 :\n",
            "[Synset('invertebrate.n.01')]\n"
          ],
          "name": "stdout"
        }
      ]
    },
    {
      "cell_type": "markdown",
      "metadata": {
        "id": "qPEhN033qdIy",
        "colab_type": "text"
      },
      "source": [
        "### PASO 7: Se dibuja la tesauro \n",
        "\n",
        "Se visualiza los nodos padres y los nodos hijos synset"
      ]
    },
    {
      "cell_type": "code",
      "metadata": {
        "id": "EU-fsUwsXQL1",
        "colab_type": "code",
        "colab": {
          "base_uri": "https://localhost:8080/",
          "height": 255
        },
        "outputId": "e1852756-9783-4b65-debd-91d77f93ecee"
      },
      "source": [
        "from IPython.display import Image\n",
        "Image('tesaur.png')"
      ],
      "execution_count": 81,
      "outputs": [
        {
          "output_type": "execute_result",
          "data": {
            "image/png": "[encoded data removed]",
            "text/plain": [
              "<IPython.core.display.Image object>"
            ]
          },
          "metadata": {
            "tags": []
          },
          "execution_count": 81
        }
      ]
    },
    {
      "cell_type": "markdown",
      "metadata": {
        "id": "LDa522UHqyBm",
        "colab_type": "text"
      },
      "source": [
        "### PASO 8: Calcular el ancetro comun mas bajo de cada par de synset\n",
        "\n",
        "Esto se calcula visualizando los nodos padres comun de cada palabra synset base mosquito.n.01,\ttsetse_fly.n.01,\thousefly.n.01,\tcockroach.n.01,\tspider.n.01"
      ]
    },
    {
      "cell_type": "code",
      "metadata": {
        "id": "w6RPfVDTqbBr",
        "colab_type": "code",
        "colab": {
          "base_uri": "https://localhost:8080/",
          "height": 169
        },
        "outputId": "2abc0c96-2596-45d6-f01a-393231327afb"
      },
      "source": [
        "from IPython.display import Image\n",
        "Image('tesaur_cuadro.png')"
      ],
      "execution_count": 82,
      "outputs": [
        {
          "output_type": "execute_result",
          "data": {
            "image/png": "[encoded data removed]",
            "text/plain": [
              "<IPython.core.display.Image object>"
            ]
          },
          "metadata": {
            "tags": []
          },
          "execution_count": 82
        }
      ]
    },
    {
      "cell_type": "markdown",
      "metadata": {
        "id": "akFRKVjprjx9",
        "colab_type": "text"
      },
      "source": [
        "### PASO  9: Calcular la profundidad de cada synset \n",
        "\n",
        "\n",
        "**mosquito.n.01** Su profundidad es de 3 niveles con respect al synset raiz <br>\n",
        "**tsetse_fly.n.01** Su profundidad es de 4 niveles con respect al synset raiz <br>\n",
        "**housefly.n.01** Su profundidad es de 4 niveles con respect al synset raiz <br>\n",
        "**cockroach.n.01** Su profundidad es de 3 niveles con respect al synset raiz <br>\n",
        "**spider.n.01** Su profundidad es de 2 niveles con respect al synset raiz"
      ]
    },
    {
      "cell_type": "markdown",
      "metadata": {
        "id": "0k4AAV0ls3lQ",
        "colab_type": "text"
      },
      "source": [
        "### PASO 10: Palabras similares\n",
        "\n",
        "Las palabras mas similares son **tsetse y housefly**, debiido a que los dos tienen el mismo padre y se encuentra en el mismo nivel."
      ]
    },
    {
      "cell_type": "code",
      "metadata": {
        "id": "T-IFe2jgrNXk",
        "colab_type": "code",
        "colab": {}
      },
      "source": [
        ""
      ],
      "execution_count": 0,
      "outputs": []
    }
  ]
}