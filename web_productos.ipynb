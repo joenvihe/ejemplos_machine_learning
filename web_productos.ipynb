{
  "nbformat": 4,
  "nbformat_minor": 0,
  "metadata": {
    "colab": {
      "name": "web_productos.ipynb",
      "version": "0.3.2",
      "provenance": [],
      "include_colab_link": true
    },
    "kernelspec": {
      "name": "python3",
      "display_name": "Python 3"
    }
  },
  "cells": [
    {
      "cell_type": "markdown",
      "metadata": {
        "id": "view-in-github",
        "colab_type": "text"
      },
      "source": [
        "<a href=\"https://colab.research.google.com/github/joenvihe/ejemplos_machine_learning/blob/master/web_productos.ipynb\" target=\"_parent\"><img src=\"https://colab.research.google.com/assets/colab-badge.svg\" alt=\"Open In Colab\"/></a>"
      ]
    },
    {
      "cell_type": "code",
      "metadata": {
        "id": "_Er_ID5NKiAn",
        "colab_type": "code",
        "outputId": "cbbd2f1b-1683-4c9c-8b0a-8375d6ae8650",
        "colab": {
          "base_uri": "https://localhost:8080/",
          "height": 122
        }
      },
      "source": [
        "# Nos conectamos al google drive para obtner el dataset\n",
        "from google.colab import drive\n",
        "# obtener la autorizacion\n",
        "drive.mount('/content/drive')"
      ],
      "execution_count": 0,
      "outputs": [
        {
          "output_type": "stream",
          "text": [
            "Go to this URL in a browser: https://accounts.google.com/o/oauth2/auth?client_id=947318989803-6bn6qk8qdgf4n4g3pfee6491hc0brc4i.apps.googleusercontent.com&redirect_uri=urn%3Aietf%3Awg%3Aoauth%3A2.0%3Aoob&scope=email%20https%3A%2F%2Fwww.googleapis.com%2Fauth%2Fdocs.test%20https%3A%2F%2Fwww.googleapis.com%2Fauth%2Fdrive%20https%3A%2F%2Fwww.googleapis.com%2Fauth%2Fdrive.photos.readonly%20https%3A%2F%2Fwww.googleapis.com%2Fauth%2Fpeopleapi.readonly&response_type=code\n",
            "\n",
            "Enter your authorization code:\n",
            "··········\n",
            "Mounted at /content/drive\n"
          ],
          "name": "stdout"
        }
      ]
    },
    {
      "cell_type": "code",
      "metadata": {
        "id": "pxvT9lwvKw-j",
        "colab_type": "code",
        "outputId": "9b8a34bf-9eba-4e3b-b0b6-be7acab09340",
        "colab": {
          "base_uri": "https://localhost:8080/",
          "height": 34
        }
      },
      "source": [
        "# nos ubicamos en la carpeta donde se encuentra el DATASET\n",
        "%cd /content/drive/'My Drive'/UNIR/TESIS"
      ],
      "execution_count": 0,
      "outputs": [
        {
          "output_type": "stream",
          "text": [
            "/content/drive/My Drive/UNIR/TESIS\n"
          ],
          "name": "stdout"
        }
      ]
    },
    {
      "cell_type": "code",
      "metadata": {
        "id": "Isi3wH28nPu-",
        "colab_type": "code",
        "outputId": "e94765d4-5dfc-44de-be36-c57f49b3c380",
        "colab": {
          "base_uri": "https://localhost:8080/",
          "height": 1000
        }
      },
      "source": [
        "!pip install translate"
      ],
      "execution_count": 0,
      "outputs": [
        {
          "output_type": "stream",
          "text": [
            "Collecting translate\n",
            "  Downloading https://files.pythonhosted.org/packages/85/b2/2ea329a07bbc0c7227eef84ca89ffd6895e7ec237d6c0b26574d56103e53/translate-3.5.0-py2.py3-none-any.whl\n",
            "Requirement already satisfied: requests in /usr/local/lib/python3.6/dist-packages (from translate) (2.21.0)\n",
            "Requirement already satisfied: lxml in /usr/local/lib/python3.6/dist-packages (from translate) (4.2.6)\n",
            "Collecting pre-commit (from translate)\n",
            "\u001b[?25l  Downloading https://files.pythonhosted.org/packages/59/22/13e65062888c1f53619ef557f885817874aabc447e1cbb4cf774ceaf222f/pre_commit-1.17.0-py2.py3-none-any.whl (153kB)\n",
            "\u001b[K     |████████████████████████████████| 153kB 4.1MB/s \n",
            "\u001b[?25hRequirement already satisfied: click in /usr/local/lib/python3.6/dist-packages (from translate) (7.0)\n",
            "Collecting tox (from translate)\n",
            "\u001b[?25l  Downloading https://files.pythonhosted.org/packages/3f/21/66868fc9074e366d0dc6952c53c918230e772fd662e69b331bac7a67fcbe/tox-3.13.2-py2.py3-none-any.whl (80kB)\n",
            "\u001b[K     |████████████████████████████████| 81kB 23.3MB/s \n",
            "\u001b[?25hRequirement already satisfied: certifi>=2017.4.17 in /usr/local/lib/python3.6/dist-packages (from requests->translate) (2019.6.16)\n",
            "Requirement already satisfied: idna<2.9,>=2.5 in /usr/local/lib/python3.6/dist-packages (from requests->translate) (2.8)\n",
            "Requirement already satisfied: urllib3<1.25,>=1.21.1 in /usr/local/lib/python3.6/dist-packages (from requests->translate) (1.24.3)\n",
            "Requirement already satisfied: chardet<3.1.0,>=3.0.2 in /usr/local/lib/python3.6/dist-packages (from requests->translate) (3.0.4)\n",
            "Collecting identify>=1.0.0 (from pre-commit->translate)\n",
            "\u001b[?25l  Downloading https://files.pythonhosted.org/packages/94/f7/0ad891a459ee50e8774636798ce00e0b445addd8555661da9dbb546676a6/identify-1.4.5-py2.py3-none-any.whl (97kB)\n",
            "\u001b[K     |████████████████████████████████| 102kB 27.3MB/s \n",
            "\u001b[?25hCollecting virtualenv>=15.2 (from pre-commit->translate)\n",
            "\u001b[?25l  Downloading https://files.pythonhosted.org/packages/eb/9f/33373d471bb9337c8db86b763052964c42f5079ea0de9517bc88acfbad26/virtualenv-16.6.2-py2.py3-none-any.whl (2.0MB)\n",
            "\u001b[K     |████████████████████████████████| 2.0MB 39.9MB/s \n",
            "\u001b[?25hRequirement already satisfied: six in /usr/local/lib/python3.6/dist-packages (from pre-commit->translate) (1.12.0)\n",
            "Requirement already satisfied: importlib-metadata in /usr/local/lib/python3.6/dist-packages (from pre-commit->translate) (0.18)\n",
            "Requirement already satisfied: pyyaml in /usr/local/lib/python3.6/dist-packages (from pre-commit->translate) (3.13)\n",
            "Collecting nodeenv>=0.11.1 (from pre-commit->translate)\n",
            "  Downloading https://files.pythonhosted.org/packages/00/6e/ed417bd1ed417ab3feada52d0c89ab0ed87d150f91590badf84273e047c9/nodeenv-1.3.3.tar.gz\n",
            "Collecting importlib-resources; python_version < \"3.7\" (from pre-commit->translate)\n",
            "  Downloading https://files.pythonhosted.org/packages/2f/f7/b4aa02cdd3ee7ebba375969d77c00826aa15c5db84247d23c89522dccbfa/importlib_resources-1.0.2-py2.py3-none-any.whl\n",
            "Collecting cfgv>=2.0.0 (from pre-commit->translate)\n",
            "  Downloading https://files.pythonhosted.org/packages/6e/ff/2e6bcaff26058200717c469a0910da96c89bb00e9cc31b68aa0bfc9b1b0d/cfgv-2.0.1-py2.py3-none-any.whl\n",
            "Collecting aspy.yaml (from pre-commit->translate)\n",
            "  Downloading https://files.pythonhosted.org/packages/99/ce/78be097b00817ccf02deaf481eb7a603eecee6fa216e82fa7848cd265449/aspy.yaml-1.3.0-py2.py3-none-any.whl\n",
            "Collecting toml (from pre-commit->translate)\n",
            "  Downloading https://files.pythonhosted.org/packages/a2/12/ced7105d2de62fa7c8fb5fce92cc4ce66b57c95fb875e9318dba7f8c5db0/toml-0.10.0-py2.py3-none-any.whl\n",
            "Requirement already satisfied: filelock<4,>=3.0.0 in /usr/local/lib/python3.6/dist-packages (from tox->translate) (3.0.12)\n",
            "Requirement already satisfied: packaging>=14 in /usr/local/lib/python3.6/dist-packages (from tox->translate) (19.0)\n",
            "Collecting pluggy<1,>=0.12.0 (from tox->translate)\n",
            "  Downloading https://files.pythonhosted.org/packages/06/ee/de89e0582276e3551df3110088bf20844de2b0e7df2748406876cc78e021/pluggy-0.12.0-py2.py3-none-any.whl\n",
            "Requirement already satisfied: py<2,>=1.4.17 in /usr/local/lib/python3.6/dist-packages (from tox->translate) (1.8.0)\n",
            "Requirement already satisfied: zipp>=0.5 in /usr/local/lib/python3.6/dist-packages (from importlib-metadata->pre-commit->translate) (0.5.2)\n",
            "Requirement already satisfied: pyparsing>=2.0.2 in /usr/local/lib/python3.6/dist-packages (from packaging>=14->tox->translate) (2.4.0)\n",
            "Building wheels for collected packages: nodeenv\n",
            "  Building wheel for nodeenv (setup.py) ... \u001b[?25l\u001b[?25hdone\n",
            "  Stored in directory: /root/.cache/pip/wheels/7b/6c/23/eb26369b77904c8963fae9e64338b0f0b948b4d59710760834\n",
            "Successfully built nodeenv\n",
            "\u001b[31mERROR: pytest 3.6.4 has requirement pluggy<0.8,>=0.5, but you'll have pluggy 0.12.0 which is incompatible.\u001b[0m\n",
            "\u001b[31mERROR: datascience 0.10.6 has requirement folium==0.2.1, but you'll have folium 0.8.3 which is incompatible.\u001b[0m\n",
            "Installing collected packages: identify, virtualenv, nodeenv, importlib-resources, cfgv, aspy.yaml, toml, pre-commit, pluggy, tox, translate\n",
            "  Found existing installation: pluggy 0.7.1\n",
            "    Uninstalling pluggy-0.7.1:\n",
            "      Successfully uninstalled pluggy-0.7.1\n",
            "Successfully installed aspy.yaml-1.3.0 cfgv-2.0.1 identify-1.4.5 importlib-resources-1.0.2 nodeenv-1.3.3 pluggy-0.12.0 pre-commit-1.17.0 toml-0.10.0 tox-3.13.2 translate-3.5.0 virtualenv-16.6.2\n"
          ],
          "name": "stdout"
        },
        {
          "output_type": "display_data",
          "data": {
            "application/vnd.colab-display-data+json": {
              "pip_warning": {
                "packages": [
                  "pluggy"
                ]
              }
            }
          },
          "metadata": {
            "tags": []
          }
        }
      ]
    },
    {
      "cell_type": "code",
      "metadata": {
        "id": "OeWD_ZeJLL70",
        "colab_type": "code",
        "outputId": "40c42312-09b3-436e-c5af-a7b1c11fb467",
        "colab": {
          "base_uri": "https://localhost:8080/",
          "height": 85
        }
      },
      "source": [
        "import pandas as pd\n",
        "import numpy as np\n",
        "\n",
        "import string\n",
        "import re\n",
        "import nltk\n",
        "nltk.download('stopwords')\n",
        "nltk.download('punkt')\n",
        "from nltk.corpus import stopwords\n",
        "\n",
        "from translate import Translator\n",
        "\n"
      ],
      "execution_count": 0,
      "outputs": [
        {
          "output_type": "stream",
          "text": [
            "[nltk_data] Downloading package stopwords to /root/nltk_data...\n",
            "[nltk_data]   Package stopwords is already up-to-date!\n",
            "[nltk_data] Downloading package punkt to /root/nltk_data...\n",
            "[nltk_data]   Package punkt is already up-to-date!\n"
          ],
          "name": "stdout"
        }
      ]
    },
    {
      "cell_type": "code",
      "metadata": {
        "id": "q4C2JE4mLC9M",
        "colab_type": "code",
        "colab": {}
      },
      "source": [
        "# cargamos en un dataframe\n",
        "df = pd.read_csv(\"web_products.csv\")\n",
        "df = df.replace(np.nan, '', regex=True)"
      ],
      "execution_count": 0,
      "outputs": []
    },
    {
      "cell_type": "code",
      "metadata": {
        "id": "28Dya2NVLJxU",
        "colab_type": "code",
        "outputId": "3fc05d0e-a4e4-4aac-cec7-2b2b534a2479",
        "colab": {
          "base_uri": "https://localhost:8080/",
          "height": 204
        }
      },
      "source": [
        "df[\"product\"] = df[\"pname\"] + \" \" + df[\"cat3\"]\n",
        "df.tail()"
      ],
      "execution_count": 0,
      "outputs": [
        {
          "output_type": "execute_result",
          "data": {
            "text/html": [
              "<div>\n",
              "<style scoped>\n",
              "    .dataframe tbody tr th:only-of-type {\n",
              "        vertical-align: middle;\n",
              "    }\n",
              "\n",
              "    .dataframe tbody tr th {\n",
              "        vertical-align: top;\n",
              "    }\n",
              "\n",
              "    .dataframe thead th {\n",
              "        text-align: right;\n",
              "    }\n",
              "</style>\n",
              "<table border=\"1\" class=\"dataframe\">\n",
              "  <thead>\n",
              "    <tr style=\"text-align: right;\">\n",
              "      <th></th>\n",
              "      <th>pid</th>\n",
              "      <th>cat3</th>\n",
              "      <th>web</th>\n",
              "      <th>brand</th>\n",
              "      <th>pname</th>\n",
              "      <th>product</th>\n",
              "    </tr>\n",
              "  </thead>\n",
              "  <tbody>\n",
              "    <tr>\n",
              "      <th>22748</th>\n",
              "      <td>10178</td>\n",
              "      <td>pisco puro</td>\n",
              "      <td>metro</td>\n",
              "      <td>tabernero</td>\n",
              "      <td>pisco tabernero coleccion privada tres cepas b...</td>\n",
              "      <td>pisco tabernero coleccion privada tres cepas b...</td>\n",
              "    </tr>\n",
              "    <tr>\n",
              "      <th>22749</th>\n",
              "      <td>16248</td>\n",
              "      <td>ambientadores y aromatizadores</td>\n",
              "      <td>metro</td>\n",
              "      <td>air wick</td>\n",
              "      <td>ambientador automático repuesto air wick delic...</td>\n",
              "      <td>ambientador automático repuesto air wick delic...</td>\n",
              "    </tr>\n",
              "    <tr>\n",
              "      <th>22750</th>\n",
              "      <td>31035</td>\n",
              "      <td>otros snacks</td>\n",
              "      <td>vivanda</td>\n",
              "      <td>villa natura</td>\n",
              "      <td>pistachos salados villa natura bolsa 80g</td>\n",
              "      <td>pistachos salados villa natura bolsa 80g otros...</td>\n",
              "    </tr>\n",
              "    <tr>\n",
              "      <th>22751</th>\n",
              "      <td>8679</td>\n",
              "      <td></td>\n",
              "      <td>metro</td>\n",
              "      <td>huggies</td>\n",
              "      <td>pañales huggies hiperpack auto-ajuste niño tal...</td>\n",
              "      <td>pañales huggies hiperpack auto-ajuste niño tal...</td>\n",
              "    </tr>\n",
              "    <tr>\n",
              "      <th>22752</th>\n",
              "      <td>40683735</td>\n",
              "      <td>flan, pudin y otros postres</td>\n",
              "      <td>tottus</td>\n",
              "      <td>royal</td>\n",
              "      <td>gelatina piña</td>\n",
              "      <td>gelatina piña  flan, pudin y otros postres</td>\n",
              "    </tr>\n",
              "  </tbody>\n",
              "</table>\n",
              "</div>"
            ],
            "text/plain": [
              "            pid  ...                                            product\n",
              "22748     10178  ...  pisco tabernero coleccion privada tres cepas b...\n",
              "22749     16248  ...  ambientador automático repuesto air wick delic...\n",
              "22750     31035  ...  pistachos salados villa natura bolsa 80g otros...\n",
              "22751      8679  ...  pañales huggies hiperpack auto-ajuste niño tal...\n",
              "22752  40683735  ...         gelatina piña  flan, pudin y otros postres\n",
              "\n",
              "[5 rows x 6 columns]"
            ]
          },
          "metadata": {
            "tags": []
          },
          "execution_count": 5
        }
      ]
    },
    {
      "cell_type": "code",
      "metadata": {
        "id": "0qDSS20GMBPr",
        "colab_type": "code",
        "colab": {}
      },
      "source": [
        "lst_medida = [\"dt\",\"gr\",\"un\",\"kl\",\"kg\",\"ml\",\"cm\",\"oz\",\"oi\",\"plz\",\"bl\",\"unidades\",\"und\",\"unid\",\"talla\",\"ts\",\"ch\",\"pack\",\"lata\",\"latas\",\"bolsa\",\"bolsas\",\"botella\",\"botellas\",\"paquete\",\"paquetes\",\"caja\",\"frasco\",\"frascos\"]\n",
        "\n",
        "def translate(name_prod):\n",
        "  translator= Translator(from_lang=\"english\",to_lang=\"spanish\")\n",
        "  translation = translator.translate(name_prod)\n",
        "  return translation\n",
        "\n",
        "def clean_product(cat3,web,brand,name_prod):\n",
        "  #name_prod = translate(name_prod)\n",
        "  name_prod = str(name_prod).replace(str(web),\" \") \n",
        "  name_prod = str(name_prod).replace(str(brand),\" \") \n",
        "  for i in string.punctuation:\n",
        "    name_prod = str(name_prod).replace(i,\" \")\n",
        "  name_prod = re.sub('x\\d', ' ', name_prod)\n",
        "  name_prod = re.sub('\\d', ' ', name_prod)\n",
        "  bag_word = \"\"\n",
        "  for i in name_prod.split(\" \"):\n",
        "    if i not in stopwords.words('spanish') and i not in lst_medida and len(i)>1:\n",
        "      bag_word = bag_word + \" \" + str(i)\n",
        "  return bag_word "
      ],
      "execution_count": 0,
      "outputs": []
    },
    {
      "cell_type": "code",
      "metadata": {
        "id": "RED2NGmuytwd",
        "colab_type": "code",
        "colab": {}
      },
      "source": [
        "#df['clean_product'] = df.apply(lambda x: clean_product(x['cat3'],x['web'],x['brand'],x['product']),axis=1)\n",
        "df['clean_product'] = df.apply(lambda x: clean_product(x['cat3'],x['web'],x['brand'],x['pname']),axis=1)"
      ],
      "execution_count": 0,
      "outputs": []
    },
    {
      "cell_type": "code",
      "metadata": {
        "id": "xyRZFIs6Xr24",
        "colab_type": "code",
        "colab": {}
      },
      "source": [
        "df.to_csv(\"web_product_clean.csv\")"
      ],
      "execution_count": 0,
      "outputs": []
    },
    {
      "cell_type": "markdown",
      "metadata": {
        "id": "rwMq85FrZ_Tq",
        "colab_type": "text"
      },
      "source": [
        "## **LOAD WEB PRODUCT CLEAN**"
      ]
    },
    {
      "cell_type": "code",
      "metadata": {
        "id": "zbNt2AVZZp5N",
        "colab_type": "code",
        "colab": {}
      },
      "source": [
        "# cargamos en un dataframe\n",
        "df = pd.read_csv(\"web_product_clean.csv\")\n",
        "df = df.replace(np.nan, '', regex=True)\n",
        "df_doc = df[[\"pid\",\"cat3\",\"web\",\"brand\",\"pname\",\"clean_product\"]]"
      ],
      "execution_count": 0,
      "outputs": []
    },
    {
      "cell_type": "code",
      "metadata": {
        "id": "nZ2YjnpQLTUM",
        "colab_type": "code",
        "outputId": "5ddefb1d-bb01-46a8-ad99-7bc091913e7d",
        "colab": {
          "base_uri": "https://localhost:8080/",
          "height": 51
        }
      },
      "source": [
        "#df_doc.head()\n",
        "print(df_doc[\"pname\"].head(20000)[40])\n",
        "print(df_doc[\"clean_product\"].head(20000)[40])"
      ],
      "execution_count": 0,
      "outputs": [
        {
          "output_type": "stream",
          "text": [
            "record pentacombo olla arrocera clobls100 + hervidor clhbl100 + sandwichera clsbl100 + licuadora cllbl100 + sartén estrella n20\n",
            " pentacombo olla arrocera clobls hervidor clhbl sandwichera clsbl licuadora cllbl sartén estrella\n"
          ],
          "name": "stdout"
        }
      ]
    },
    {
      "cell_type": "code",
      "metadata": {
        "id": "Cjp8TXBrqGqM",
        "colab_type": "code",
        "outputId": "ce0159c8-f3d4-4e83-e1b4-3ed04bdfe6c3",
        "colab": {
          "base_uri": "https://localhost:8080/",
          "height": 51
        }
      },
      "source": [
        "#df_doc[\"clean_product\"].head(20000)[:2]\n",
        "df_doc[\"clean_product\"].values[:2]\n"
      ],
      "execution_count": 0,
      "outputs": [
        {
          "output_type": "execute_result",
          "data": {
            "text/plain": [
              "array([' chocolate leche coco chocolate orqui chocolate orqui chocolate orqui chocolate orqui chocolate orqui',\n",
              "       ' crema dental stages princess cepillo suave'], dtype=object)"
            ]
          },
          "metadata": {
            "tags": []
          },
          "execution_count": 28
        }
      ]
    },
    {
      "cell_type": "code",
      "metadata": {
        "id": "ETFkZCFXduQs",
        "colab_type": "code",
        "colab": {}
      },
      "source": [
        "\n",
        "############################################################################################\n",
        "# otro ejemplo k-mean\n",
        "############################################################################################\n",
        "import collections\n",
        "from nltk import word_tokenize\n",
        "from nltk.corpus import stopwords\n",
        "from nltk.stem import PorterStemmer\n",
        "from sklearn.cluster import KMeans\n",
        "from sklearn.feature_extraction.text import TfidfVectorizer\n",
        "from pprint import pprint\n",
        "\n",
        "\n",
        "def word_tokenizer(text):\n",
        "    #tokenizes and stems the text\n",
        "    tokens = word_tokenize(text)\n",
        "    stemmer = PorterStemmer()\n",
        "    tokens = [stemmer.stem(t) for t in tokens if t not in stopwords.words('spanish')]\n",
        "    return tokens\n",
        "\n",
        "\n",
        "def cluster_sentences(sentences, nb_of_clusters=5):\n",
        "  tfidf_vectorizer = TfidfVectorizer(tokenizer=word_tokenizer,\n",
        "                                  stop_words=stopwords.words('spanish'),\n",
        "                                     encoding=u'utf-8',\n",
        "                                     ngram_range=(0, 2),\n",
        "                                     strip_accents='unicode',\n",
        "                                  #max_df=0.95,\n",
        "                                  #min_df=0.05,\n",
        "                                  lowercase=True)\n",
        "  #builds a tf-idf matrix for the sentences\n",
        "  tfidf_matrix = tfidf_vectorizer.fit_transform(sentences)\n",
        "  kmeans = KMeans(n_clusters=nb_of_clusters)\n",
        "  kmeans.fit(tfidf_matrix)\n",
        "  clusters = collections.defaultdict(list)\n",
        "  for i, label in enumerate(kmeans.labels_):\n",
        "          clusters[label].append(i)\n",
        "  return dict(clusters)\n"
      ],
      "execution_count": 0,
      "outputs": []
    },
    {
      "cell_type": "code",
      "metadata": {
        "id": "5_FYEc_6cARh",
        "colab_type": "code",
        "outputId": "6aacecd5-af85-4c59-da68-020416bd88f3",
        "colab": {
          "base_uri": "https://localhost:8080/",
          "height": 34
        }
      },
      "source": [
        "df_doc.columns"
      ],
      "execution_count": 0,
      "outputs": [
        {
          "output_type": "execute_result",
          "data": {
            "text/plain": [
              "Index(['pid', 'cat3', 'web', 'brand', 'pname', 'clean_product'], dtype='object')"
            ]
          },
          "metadata": {
            "tags": []
          },
          "execution_count": 30
        }
      ]
    },
    {
      "cell_type": "code",
      "metadata": {
        "id": "ddWEyvj5b3Lk",
        "colab_type": "code",
        "outputId": "62c7d91f-4870-4cd2-d089-76c1da1ca253",
        "colab": {
          "base_uri": "https://localhost:8080/",
          "height": 71
        }
      },
      "source": [
        "s_pid = df_doc[\"pid\"].values\n",
        "s_cat3 = df_doc[\"cat3\"].values\n",
        "s_web = df_doc[\"web\"].values\n",
        "s_brand = df_doc[\"brand\"].values  \n",
        "s_product = df_doc[\"pname\"].values \n",
        "s_clean_product = df_doc[\"clean_product\"].values\n",
        "\n",
        "lst_product_cluster = []\n",
        "#print(type(sentences))\n",
        "nclusters= 150\n",
        "clusters = cluster_sentences(s_clean_product, nclusters)\n",
        "for cluster in range(nclusters):\n",
        "    #print(\"cluster \",cluster,\":\")\n",
        "    for i,sentence in enumerate(clusters[cluster]):\n",
        "        #print(\"    \",s_clean_product[sentence],\" - \",s_web[sentence])\n",
        "        dict_cluster = {}\n",
        "        dict_cluster[\"pid\"] = s_pid[sentence]\n",
        "        dict_cluster[\"cat3\"] = s_cat3[sentence]\n",
        "        dict_cluster[\"web\"] = s_web[sentence]\n",
        "        dict_cluster[\"brand\"] = s_brand[sentence] \n",
        "        dict_cluster[\"product\"] = s_product[sentence]\n",
        "        dict_cluster[\"clean_product\"] = s_clean_product[sentence]\n",
        "        dict_cluster[\"cluster\"] = cluster\n",
        "        lst_product_cluster.append(dict_cluster)\n",
        "        \n",
        "pd_cluster = pd.DataFrame(lst_product_cluster)\n",
        "pd_cluster.to_csv(\"web_product_clean_cluster.csv\")"
      ],
      "execution_count": 0,
      "outputs": [
        {
          "output_type": "stream",
          "text": [
            "/usr/local/lib/python3.6/dist-packages/sklearn/feature_extraction/text.py:300: UserWarning: Your stop_words may be inconsistent with your preprocessing. Tokenizing the stop words generated tokens ['eramo', 'est', 'estabamo', 'estai', 'estan', 'estara', 'estaran', 'estarei', 'estaria', 'estariai', 'estariamo', 'estarian', 'estei', 'esten', 'estuvieramo', 'estuviesemo', 'fueramo', 'fuesemo', 'habei', 'habia', 'habiai', 'habiamo', 'habian', 'habr', 'habra', 'habran', 'habrei', 'habria', 'habriai', 'habriamo', 'habrian', 'hayai', 'hubieramo', 'hubiesemo', 'ma', 'mia', 'mio', 'seai', 'sera', 'seran', 'sere', 'serei', 'seria', 'seriai', 'seriamo', 'serian', 'si', 'tambien', 'tendr', 'tendra', 'tendran', 'tendrei', 'tendria', 'tendriai', 'tendriamo', 'tendrian', 'tenei', 'tengai', 'tenia', 'teniai', 'teniamo', 'tenian', 'tuvieramo', 'tuviesemo'] not in stop_words.\n",
            "  'stop_words.' % sorted(inconsistent))\n"
          ],
          "name": "stderr"
        }
      ]
    },
    {
      "cell_type": "markdown",
      "metadata": {
        "id": "_oCEvpJ4i1ad",
        "colab_type": "text"
      },
      "source": [
        "## **LOAD WEB PRODUCT CLEAN CLUSTER**"
      ]
    },
    {
      "cell_type": "code",
      "metadata": {
        "id": "xCK2KaZllFXY",
        "colab_type": "code",
        "outputId": "b5a78431-1bac-4048-e72a-0b9d030e1211",
        "colab": {
          "base_uri": "https://localhost:8080/",
          "height": 204
        }
      },
      "source": [
        "# cargamos en un dataframe\n",
        "df = pd.read_csv(\"web_product_clean_cluster.csv\")\n",
        "df.head()"
      ],
      "execution_count": 0,
      "outputs": [
        {
          "output_type": "execute_result",
          "data": {
            "text/html": [
              "<div>\n",
              "<style scoped>\n",
              "    .dataframe tbody tr th:only-of-type {\n",
              "        vertical-align: middle;\n",
              "    }\n",
              "\n",
              "    .dataframe tbody tr th {\n",
              "        vertical-align: top;\n",
              "    }\n",
              "\n",
              "    .dataframe thead th {\n",
              "        text-align: right;\n",
              "    }\n",
              "</style>\n",
              "<table border=\"1\" class=\"dataframe\">\n",
              "  <thead>\n",
              "    <tr style=\"text-align: right;\">\n",
              "      <th></th>\n",
              "      <th>Unnamed: 0</th>\n",
              "      <th>brand</th>\n",
              "      <th>cat3</th>\n",
              "      <th>clean_product</th>\n",
              "      <th>cluster</th>\n",
              "      <th>pid</th>\n",
              "      <th>product</th>\n",
              "      <th>web</th>\n",
              "    </tr>\n",
              "  </thead>\n",
              "  <tbody>\n",
              "    <tr>\n",
              "      <th>0</th>\n",
              "      <td>0</td>\n",
              "      <td>pro</td>\n",
              "      <td>cepillo dental</td>\n",
              "      <td>cepillo dientes doble acción</td>\n",
              "      <td>0</td>\n",
              "      <td>6744</td>\n",
              "      <td>cepillo de dientes pro doble acción pack 2 unid</td>\n",
              "      <td>metro</td>\n",
              "    </tr>\n",
              "    <tr>\n",
              "      <th>1</th>\n",
              "      <td>1</td>\n",
              "      <td>colgate</td>\n",
              "      <td>cepillo dental</td>\n",
              "      <td>cepillo dientes interdental</td>\n",
              "      <td>0</td>\n",
              "      <td>6802</td>\n",
              "      <td>cepillo de dientes colgate 360 interdental pac...</td>\n",
              "      <td>metro</td>\n",
              "    </tr>\n",
              "    <tr>\n",
              "      <th>2</th>\n",
              "      <td>2</td>\n",
              "      <td>oral b</td>\n",
              "      <td>crema dental</td>\n",
              "      <td>pasta dientes stages frozen contenido</td>\n",
              "      <td>0</td>\n",
              "      <td>15011</td>\n",
              "      <td>pasta de dientes oral b stages frozen contenid...</td>\n",
              "      <td>metro</td>\n",
              "    </tr>\n",
              "    <tr>\n",
              "      <th>3</th>\n",
              "      <td>3</td>\n",
              "      <td>colgate</td>\n",
              "      <td>crema dental</td>\n",
              "      <td>pasta dientes smiles minions contenido</td>\n",
              "      <td>0</td>\n",
              "      <td>8736</td>\n",
              "      <td>pasta de dientes colgate smiles minions conten...</td>\n",
              "      <td>wong</td>\n",
              "    </tr>\n",
              "    <tr>\n",
              "      <th>4</th>\n",
              "      <td>4</td>\n",
              "      <td>colgate</td>\n",
              "      <td>cepillo dental</td>\n",
              "      <td>cepillo dientes smiles bob esponja años</td>\n",
              "      <td>0</td>\n",
              "      <td>6740</td>\n",
              "      <td>cepillo de dientes colgate smiles bob esponja ...</td>\n",
              "      <td>metro</td>\n",
              "    </tr>\n",
              "  </tbody>\n",
              "</table>\n",
              "</div>"
            ],
            "text/plain": [
              "   Unnamed: 0  ...    web\n",
              "0           0  ...  metro\n",
              "1           1  ...  metro\n",
              "2           2  ...  metro\n",
              "3           3  ...   wong\n",
              "4           4  ...  metro\n",
              "\n",
              "[5 rows x 8 columns]"
            ]
          },
          "metadata": {
            "tags": []
          },
          "execution_count": 8
        }
      ]
    },
    {
      "cell_type": "markdown",
      "metadata": {
        "id": "s2WXZgpnzaJR",
        "colab_type": "text"
      },
      "source": [
        "## **EJEMPLO DE SIMILITUD DE PALABRAS CON PAN INTEGRAL**"
      ]
    },
    {
      "cell_type": "code",
      "metadata": {
        "id": "oeMF25ibyuj1",
        "colab_type": "code",
        "outputId": "e2c247e9-a65d-4738-ea80-ead35a68a133",
        "colab": {
          "base_uri": "https://localhost:8080/",
          "height": 204
        }
      },
      "source": [
        "df_pan_integral = df.loc[df[\"cluster\"]==148]\n",
        "df_pan_integral.head()"
      ],
      "execution_count": 0,
      "outputs": [
        {
          "output_type": "execute_result",
          "data": {
            "text/html": [
              "<div>\n",
              "<style scoped>\n",
              "    .dataframe tbody tr th:only-of-type {\n",
              "        vertical-align: middle;\n",
              "    }\n",
              "\n",
              "    .dataframe tbody tr th {\n",
              "        vertical-align: top;\n",
              "    }\n",
              "\n",
              "    .dataframe thead th {\n",
              "        text-align: right;\n",
              "    }\n",
              "</style>\n",
              "<table border=\"1\" class=\"dataframe\">\n",
              "  <thead>\n",
              "    <tr style=\"text-align: right;\">\n",
              "      <th></th>\n",
              "      <th>Unnamed: 0</th>\n",
              "      <th>brand</th>\n",
              "      <th>cat3</th>\n",
              "      <th>clean_product</th>\n",
              "      <th>cluster</th>\n",
              "      <th>pid</th>\n",
              "      <th>product</th>\n",
              "      <th>web</th>\n",
              "    </tr>\n",
              "  </thead>\n",
              "  <tbody>\n",
              "    <tr>\n",
              "      <th>22617</th>\n",
              "      <td>22617</td>\n",
              "      <td>bimbo</td>\n",
              "      <td>panes embolsados</td>\n",
              "      <td>pan integral multigrano linaza</td>\n",
              "      <td>148</td>\n",
              "      <td>53795</td>\n",
              "      <td>pan integral multigrano linaza bimbo bolsa 360 g</td>\n",
              "      <td>metro</td>\n",
              "    </tr>\n",
              "    <tr>\n",
              "      <th>22618</th>\n",
              "      <td>22618</td>\n",
              "      <td>bimbo</td>\n",
              "      <td>panes embolsados especiales</td>\n",
              "      <td>pan pita integral</td>\n",
              "      <td>148</td>\n",
              "      <td>12975</td>\n",
              "      <td>pan pita integral bimbo bolsa 10 unidades</td>\n",
              "      <td>metro</td>\n",
              "    </tr>\n",
              "    <tr>\n",
              "      <th>22619</th>\n",
              "      <td>22619</td>\n",
              "      <td>misura</td>\n",
              "      <td>fideos cortos y pastinas</td>\n",
              "      <td>fusilli integral</td>\n",
              "      <td>148</td>\n",
              "      <td>11748</td>\n",
              "      <td>fusilli integral misura bolsa 454 g</td>\n",
              "      <td>wong</td>\n",
              "    </tr>\n",
              "    <tr>\n",
              "      <th>22620</th>\n",
              "      <td>22620</td>\n",
              "      <td>metro</td>\n",
              "      <td>panes embolsados</td>\n",
              "      <td>pan integral</td>\n",
              "      <td>148</td>\n",
              "      <td>34928</td>\n",
              "      <td>pan integral metro bolsa 350 g</td>\n",
              "      <td>metro</td>\n",
              "    </tr>\n",
              "    <tr>\n",
              "      <th>22621</th>\n",
              "      <td>22621</td>\n",
              "      <td>metro</td>\n",
              "      <td>panes embolsados</td>\n",
              "      <td>pan integral corteza corte horizontal</td>\n",
              "      <td>148</td>\n",
              "      <td>53653</td>\n",
              "      <td>pan integral sin corteza corte horizontal metr...</td>\n",
              "      <td>metro</td>\n",
              "    </tr>\n",
              "  </tbody>\n",
              "</table>\n",
              "</div>"
            ],
            "text/plain": [
              "       Unnamed: 0  ...    web\n",
              "22617       22617  ...  metro\n",
              "22618       22618  ...  metro\n",
              "22619       22619  ...   wong\n",
              "22620       22620  ...  metro\n",
              "22621       22621  ...  metro\n",
              "\n",
              "[5 rows x 8 columns]"
            ]
          },
          "metadata": {
            "tags": []
          },
          "execution_count": 9
        }
      ]
    },
    {
      "cell_type": "code",
      "metadata": {
        "id": "1a3VLSXmpQtt",
        "colab_type": "code",
        "colab": {}
      },
      "source": [
        "from nltk.tokenize import RegexpTokenizer\n",
        "from nltk.stem import SnowballStemmer\n",
        "from gensim import corpora\n",
        "from gensim.models import LsiModel\n",
        "from gensim.models.coherencemodel import CoherenceModel\n",
        "import matplotlib.pyplot as plt\n",
        "\n",
        "def preprocess_data(doc_set):\n",
        "  \"\"\"\n",
        "  Input  : docuemnt list\n",
        "  Purpose: preprocess text (tokenize, removing stopwords, and stemming)\n",
        "  Output : preprocessed text\n",
        "  \"\"\"\n",
        "  # initialize regex tokenizer\n",
        "  tokenizer = RegexpTokenizer(r'\\w+')\n",
        "  # create English stop words list\n",
        "  en_stop = set(stopwords.words('spanish'))\n",
        "  # Create p_stemmer of class PorterStemmer\n",
        "  #p_stemmer = PorterStemmer()\n",
        "  p_stemmer = SnowballStemmer('spanish')\n",
        "  # list for tokenized documents in loop\n",
        "  texts = []\n",
        "  # loop through document list\n",
        "  for i in doc_set:\n",
        "      # clean and tokenize document string\n",
        "      raw = i.lower()\n",
        "      tokens = tokenizer.tokenize(raw)\n",
        "      # remove stop words from tokens\n",
        "      stopped_tokens = [i for i in tokens if not i in en_stop]\n",
        "      # stem tokens\n",
        "      stemmed_tokens = [p_stemmer.stem(i) for i in stopped_tokens]\n",
        "      # add tokens to list\n",
        "      texts.append(stemmed_tokens)\n",
        "  return texts\n",
        "  \n",
        "def prepare_corpus(doc_clean):\n",
        "  \"\"\"\n",
        "  Input  : clean document\n",
        "  Purpose: create term dictionary of our courpus and Converting list of documents (corpus) into Document Term Matrix\n",
        "  Output : term dictionary and Document Term Matrix\n",
        "  \"\"\"\n",
        "  # Creating the term dictionary of our courpus, where every unique term is assigned an index. dictionary = corpora.Dictionary(doc_clean)\n",
        "  dictionary = corpora.Dictionary(doc_clean)\n",
        "  # Converting list of documents (corpus) into Document Term Matrix using dictionary prepared above.\n",
        "  doc_term_matrix = [dictionary.doc2bow(doc) for doc in doc_clean]\n",
        "  # generate LDA model\n",
        "  return dictionary,doc_term_matrix\n",
        "  \n",
        "\n",
        "def create_gensim_lsa_model(doc_clean,number_of_topics,words):\n",
        "  \"\"\"\n",
        "  Input  : clean document, number of topics and number of words associated with each topic\n",
        "  Purpose: create LSA model using gensim\n",
        "  Output : return LSA model\n",
        "  \"\"\"\n",
        "  dictionary,doc_term_matrix=prepare_corpus(doc_clean)\n",
        "  # generate LSA model\n",
        "  lsamodel = LsiModel(doc_term_matrix, num_topics=number_of_topics, id2word = dictionary)  # train model\n",
        "  print(lsamodel.print_topics(num_topics=number_of_topics, num_words=words))\n",
        "  return lsamodel\n",
        "  \n",
        "def compute_coherence_values(dictionary, doc_term_matrix, doc_clean, stop, start=2, step=3):\n",
        "  \"\"\"\n",
        "  Input   : dictionary : Gensim dictionary\n",
        "            corpus : Gensim corpus\n",
        "            texts : List of input texts\n",
        "            stop : Max num of topics\n",
        "  purpose : Compute c_v coherence for various number of topics\n",
        "  Output  : model_list : List of LSA topic models\n",
        "            coherence_values : Coherence values corresponding to the LDA model with respective number of topics\n",
        "  \"\"\"\n",
        "  coherence_values = []\n",
        "  model_list = []\n",
        "  for number_of_topics in range(start, stop, step):\n",
        "    # generate LSA model\n",
        "    #model = LsiModel(doc_term_matrix, num_topics=number_of_topics, id2word = dictionary)  # train model\n",
        "    model = LsiModel(doc_term_matrix, num_topics=number_of_topics, id2word = dictionary)  # train model\n",
        "    model_list.append(model)\n",
        "    coherencemodel = CoherenceModel(model=model, texts=doc_clean, dictionary=dictionary, coherence='c_v')\n",
        "    coherence_values.append(coherencemodel.get_coherence())\n",
        "    \n",
        "  return model_list, coherence_values\n",
        "  \n",
        "def plot_graph(doc_clean,start, stop, step):\n",
        "  dictionary,doc_term_matrix=prepare_corpus(doc_clean)\n",
        "  model_list, coherence_values = compute_coherence_values(dictionary, doc_term_matrix,doc_clean,\n",
        "                                                          stop, start, step)\n",
        "  # Show graph\n",
        "  x = range(start, stop, step)\n",
        "  plt.plot(x, coherence_values)\n",
        "  plt.xlabel(\"Number of Topics\")\n",
        "  plt.ylabel(\"Coherence score\")\n",
        "  plt.legend((\"coherence_values\"), loc='best')  plt.show()"
      ],
      "execution_count": 0,
      "outputs": []
    },
    {
      "cell_type": "code",
      "metadata": {
        "id": "0AFgTZA2p0eU",
        "colab_type": "code",
        "colab": {}
      },
      "source": [
        "document_list = df_pan_integral[\"product\"].values\n",
        "#document_list = df_pan_integral[\"clean_product\"].values\n",
        "\n",
        "clean_text = preprocess_data(document_list)"
      ],
      "execution_count": 0,
      "outputs": []
    },
    {
      "cell_type": "code",
      "metadata": {
        "id": "l59j4VZS7ei9",
        "colab_type": "code",
        "outputId": "f428b467-caa3-4e56-b413-418e2262ecab",
        "colab": {
          "base_uri": "https://localhost:8080/",
          "height": 88
        }
      },
      "source": [
        "#clean_text\n",
        "from gensim import corpora, models, similarities\n",
        "from collections import defaultdict\n",
        "\n",
        "number_of_topic = 11\n",
        "dictionary = corpora.Dictionary(clean_text)\n",
        "corpus = [dictionary.doc2bow(text) for text in clean_text]\n",
        "lsi = models.LsiModel(corpus, id2word=dictionary, num_topics=number_of_topic)\n",
        "\n",
        "\n",
        "doc = [\"pan pita integral bimbo arabitas bolsa 270g\" ]\n",
        "lst_doc = preprocess_data(doc)\n",
        "doc = lst_doc[0]\n",
        "vec_bow = dictionary.doc2bow(doc)\n",
        "\n",
        "# convert the query to LSI space\n",
        "vec_lsi = lsi[vec_bow]\n",
        "index = similarities.MatrixSimilarity(lsi[corpus])\n",
        "\n",
        "# perform a similarity query against the corpus\n",
        "sims = index[vec_lsi]\n",
        "sims = sorted(enumerate(sims), key=lambda item: -item[1])\n",
        "\n",
        "print(sims)"
      ],
      "execution_count": 0,
      "outputs": [
        {
          "output_type": "stream",
          "text": [
            "[(21, 0.99999994), (13, 0.9283987), (25, 0.92048466), (31, 0.86649674), (1, 0.84426427), (17, 0.8336751), (10, 0.8274631), (43, 0.8222072), (15, 0.7893564), (0, 0.7853879), (18, 0.7756752), (6, 0.75479156), (27, 0.75479156), (14, 0.7436826), (32, 0.7436826), (30, 0.7173571), (37, 0.6843654), (24, 0.66146755), (39, 0.66146755), (16, 0.66108483), (8, 0.64978194), (3, 0.62715334), (2, 0.6130918), (52, 0.6130918), (49, 0.612826), (35, 0.61165494), (47, 0.59389746), (40, 0.5318721), (59, 0.5285961), (7, 0.52696276), (29, 0.5154851), (56, 0.5154851), (26, 0.498318), (44, 0.48447964), (55, 0.48447964), (42, 0.47178927), (11, 0.44057852), (20, 0.43882346), (4, 0.42961845), (34, 0.42215618), (36, 0.42215618), (57, 0.3997845), (46, 0.3827238), (54, 0.3827238), (5, 0.37865886), (51, 0.37546104), (53, 0.33906513), (58, 0.33906513), (9, 0.31866375), (28, 0.31866375), (45, 0.31412306), (50, 0.31412306), (12, 0.25609922), (23, 0.25609922), (33, 0.23055282), (38, 0.23055282), (22, 0.20815566), (41, 0.20815566), (19, 0.1848319), (48, 0.1848319)]\n"
          ],
          "name": "stdout"
        },
        {
          "output_type": "stream",
          "text": [
            "/usr/local/lib/python3.6/dist-packages/gensim/matutils.py:737: FutureWarning: Conversion of the second argument of issubdtype from `int` to `np.signedinteger` is deprecated. In future, it will be treated as `np.int64 == np.dtype(int).type`.\n",
            "  if np.issubdtype(vec.dtype, np.int):\n"
          ],
          "name": "stderr"
        }
      ]
    },
    {
      "cell_type": "code",
      "metadata": {
        "id": "TShg_6d77egE",
        "colab_type": "code",
        "outputId": "796d2a58-049b-4a1a-b30d-3ff4dcb65a5f",
        "colab": {
          "base_uri": "https://localhost:8080/",
          "height": 34
        }
      },
      "source": [
        "clean_text[15]"
      ],
      "execution_count": 0,
      "outputs": [
        {
          "output_type": "execute_result",
          "data": {
            "text/plain": [
              "['pan', 'integral', 'bimb', 'bols', '500', 'g']"
            ]
          },
          "metadata": {
            "tags": []
          },
          "execution_count": 102
        }
      ]
    },
    {
      "cell_type": "code",
      "metadata": {
        "id": "0uPr6BNk7eYZ",
        "colab_type": "code",
        "colab": {}
      },
      "source": [
        ""
      ],
      "execution_count": 0,
      "outputs": []
    },
    {
      "cell_type": "code",
      "metadata": {
        "id": "xY37IK7e7eTB",
        "colab_type": "code",
        "colab": {}
      },
      "source": [
        ""
      ],
      "execution_count": 0,
      "outputs": []
    },
    {
      "cell_type": "code",
      "metadata": {
        "id": "DFGRqpCI7eOp",
        "colab_type": "code",
        "colab": {}
      },
      "source": [
        ""
      ],
      "execution_count": 0,
      "outputs": []
    },
    {
      "cell_type": "code",
      "metadata": {
        "id": "4MEidgz67eId",
        "colab_type": "code",
        "colab": {}
      },
      "source": [
        ""
      ],
      "execution_count": 0,
      "outputs": []
    },
    {
      "cell_type": "code",
      "metadata": {
        "id": "LRj-PKUn7eAc",
        "colab_type": "code",
        "colab": {}
      },
      "source": [
        ""
      ],
      "execution_count": 0,
      "outputs": []
    },
    {
      "cell_type": "code",
      "metadata": {
        "id": "adfjusk87d1Q",
        "colab_type": "code",
        "colab": {}
      },
      "source": [
        ""
      ],
      "execution_count": 0,
      "outputs": []
    },
    {
      "cell_type": "code",
      "metadata": {
        "id": "oM54CE5m7dk1",
        "colab_type": "code",
        "colab": {}
      },
      "source": [
        ""
      ],
      "execution_count": 0,
      "outputs": []
    },
    {
      "cell_type": "code",
      "metadata": {
        "id": "IO98fPV8qJQq",
        "colab_type": "code",
        "outputId": "81f0656d-40df-4db0-d9b7-e339c6d498c4",
        "colab": {
          "base_uri": "https://localhost:8080/",
          "height": 85
        }
      },
      "source": [
        "clean_text[:4]"
      ],
      "execution_count": 0,
      "outputs": [
        {
          "output_type": "execute_result",
          "data": {
            "text/plain": [
              "[['pan', 'integral', 'multigran', 'linaz', 'bimb', 'bols', '360', 'g'],\n",
              " ['pan', 'pit', 'integral', 'bimb', 'bols', '10', 'unidad'],\n",
              " ['fusilli', 'integral', 'misur', 'bols', '454', 'g'],\n",
              " ['pan', 'integral', 'metr', 'bols', '350', 'g']]"
            ]
          },
          "metadata": {
            "tags": []
          },
          "execution_count": 87
        }
      ]
    },
    {
      "cell_type": "code",
      "metadata": {
        "id": "Gpfvmzqbrp9Y",
        "colab_type": "code",
        "outputId": "e5a746ae-53e2-43cb-cf3c-a6e241d086e9",
        "colab": {
          "base_uri": "https://localhost:8080/",
          "height": 283
        }
      },
      "source": [
        "start,stop,step=2,12,1\n",
        "plot_graph(clean_text,start,stop,step)"
      ],
      "execution_count": 0,
      "outputs": [
        {
          "output_type": "display_data",
          "data": {
            "image/png": "[encoded data removed]",
            "text/plain": [
              "<Figure size 432x288 with 1 Axes>"
            ]
          },
          "metadata": {
            "tags": []
          }
        }
      ]
    },
    {
      "cell_type": "code",
      "metadata": {
        "id": "UNdp_CHktAES",
        "colab_type": "code",
        "outputId": "ac4b4ffd-c307-4089-9eb9-57081888f9d6",
        "colab": {
          "base_uri": "https://localhost:8080/",
          "height": 54
        }
      },
      "source": [
        "# LSA Model\n",
        "number_of_topics=2\n",
        "words=10\n",
        "model=create_gensim_lsa_model(clean_text,number_of_topics,words)"
      ],
      "execution_count": 0,
      "outputs": [
        {
          "output_type": "stream",
          "text": [
            "[(0, '-0.680*\"integral\" + -0.676*\"pan\" + -0.143*\"pit\" + -0.121*\"arab\" + -0.089*\"fibr\" + -0.076*\"linaz\" + -0.073*\"centen\" + -0.060*\"miel\" + -0.047*\"trig\" + -0.047*\"salv\"'), (1, '0.614*\"pit\" + -0.478*\"integral\" + 0.393*\"pan\" + -0.291*\"tost\" + -0.212*\"mini\" + 0.187*\"cer\" + 0.123*\"linaz\" + 0.115*\"blanc\" + -0.112*\"empaqu\" + -0.086*\"arab\"')]\n"
          ],
          "name": "stdout"
        }
      ]
    },
    {
      "cell_type": "markdown",
      "metadata": {
        "id": "ai-BKimu0MVr",
        "colab_type": "text"
      },
      "source": [
        "### **Que porcentaje de similaridad existe entre las palabras un cluster?**"
      ]
    },
    {
      "cell_type": "code",
      "metadata": {
        "id": "KH5aJznc0Kuw",
        "colab_type": "code",
        "colab": {}
      },
      "source": [
        ""
      ],
      "execution_count": 0,
      "outputs": []
    },
    {
      "cell_type": "code",
      "metadata": {
        "id": "czAug5f-dt_P",
        "colab_type": "code",
        "outputId": "eb211739-1bd4-459b-ba2b-7fc0e5dafcc2",
        "colab": {
          "base_uri": "https://localhost:8080/",
          "height": 85
        }
      },
      "source": [
        "import requests\n",
        "from bs4 import BeautifulSoup\n",
        "url='http://www.wordreference.com/sinonimos/'\n",
        "enlace=\"gato\" #input(\"palabra a buscar: \")\n",
        "buscar=url+enlace\n",
        "resp=requests.get(buscar)\n",
        "bs=BeautifulSoup(resp.text,'lxml')\n",
        "lista=bs.find_all(class_='trans clickable')\n",
        "for sin in lista:\n",
        "    sino=sin.find_all('li')\n",
        "    for fin in sino:\n",
        "        print(fin.next_element)\n",
        " "
      ],
      "execution_count": 0,
      "outputs": [
        {
          "output_type": "stream",
          "text": [
            "micho,  minino,  micifuz,  morrongo,  morroño\n",
            "elevador,  palanca,  cric\n",
            "sagaz,  astuto,  zorro,  traicionero,  pícaro\n",
            "madrileño\n"
          ],
          "name": "stdout"
        }
      ]
    },
    {
      "cell_type": "code",
      "metadata": {
        "id": "-WSen_bRv7B7",
        "colab_type": "code",
        "outputId": "861275df-d9cc-448c-8380-3dd9646170cf",
        "colab": {
          "base_uri": "https://localhost:8080/",
          "height": 275
        }
      },
      "source": [
        "import requests\n",
        "from bs4 import BeautifulSoup\n",
        "url='http://www.wordreference.com/definicion/'\n",
        "enlace=\"gato\" #input(\"palabra a buscar: \")\n",
        "buscar=url+enlace\n",
        "resp=requests.get(buscar)\n",
        "bs=BeautifulSoup(resp.text,'lxml')\n",
        "lista=bs.find_all(class_='trans clickable')\n",
        "for sin in lista:\n",
        "    sino=sin.find_all('li')\n",
        "    for fin in sino:\n",
        "        print(fin.next_element)"
      ],
      "execution_count": 0,
      "outputs": [
        {
          "output_type": "stream",
          "text": [
            "m. y f. Mamífero carnívoro doméstico de cabeza redonda,  lengua muy áspera,  patas cortas armadas de uñas fuertes,  agudas y retráctiles,  pelaje espeso y suave de diversos colores y ojos cuya pupila se dilata para ver en la oscuridad:\n",
            " \n",
            " m. Se da este nombre a todos los félidos en general. \n",
            " Máquina para levantar grandes pesos a poca altura,  como la que se utiliza para elevar los vehículos al cambiar una rueda pinchada. \n",
            " Instrumento de hierro o de madera compuesto de dos planchas con un tornillo que permite aproximarlas sujetando fuertemente la pieza que se coge entre ellas:\n",
            " \n",
            " \n",
            " \n",
            " \n",
            " \n",
            " \n",
            " \n",
            " \n",
            " \n"
          ],
          "name": "stdout"
        }
      ]
    },
    {
      "cell_type": "code",
      "metadata": {
        "id": "kacHQnuaK-YN",
        "colab_type": "code",
        "outputId": "a7c9efe4-2081-46f4-9109-8932ccdf9e0c",
        "colab": {
          "base_uri": "https://localhost:8080/",
          "height": 921
        }
      },
      "source": [
        ""
      ],
      "execution_count": 0,
      "outputs": [
        {
          "output_type": "stream",
          "text": [
            "Collecting translate\n",
            "  Downloading https://files.pythonhosted.org/packages/85/b2/2ea329a07bbc0c7227eef84ca89ffd6895e7ec237d6c0b26574d56103e53/translate-3.5.0-py2.py3-none-any.whl\n",
            "Requirement already satisfied: requests in /usr/local/lib/python3.6/dist-packages (from translate) (2.21.0)\n",
            "Collecting pre-commit (from translate)\n",
            "\u001b[?25l  Downloading https://files.pythonhosted.org/packages/59/22/13e65062888c1f53619ef557f885817874aabc447e1cbb4cf774ceaf222f/pre_commit-1.17.0-py2.py3-none-any.whl (153kB)\n",
            "\u001b[K     |████████████████████████████████| 153kB 4.2MB/s \n",
            "\u001b[?25hRequirement already satisfied: click in /usr/local/lib/python3.6/dist-packages (from translate) (7.0)\n",
            "Requirement already satisfied: lxml in /usr/local/lib/python3.6/dist-packages (from translate) (4.2.6)\n",
            "Collecting tox (from translate)\n",
            "\u001b[?25l  Downloading https://files.pythonhosted.org/packages/3f/21/66868fc9074e366d0dc6952c53c918230e772fd662e69b331bac7a67fcbe/tox-3.13.2-py2.py3-none-any.whl (80kB)\n",
            "\u001b[K     |████████████████████████████████| 81kB 24.9MB/s \n",
            "\u001b[?25hRequirement already satisfied: urllib3<1.25,>=1.21.1 in /usr/local/lib/python3.6/dist-packages (from requests->translate) (1.24.3)\n",
            "Requirement already satisfied: idna<2.9,>=2.5 in /usr/local/lib/python3.6/dist-packages (from requests->translate) (2.8)\n",
            "Requirement already satisfied: certifi>=2017.4.17 in /usr/local/lib/python3.6/dist-packages (from requests->translate) (2019.6.16)\n",
            "Requirement already satisfied: chardet<3.1.0,>=3.0.2 in /usr/local/lib/python3.6/dist-packages (from requests->translate) (3.0.4)\n",
            "Requirement already satisfied: six in /usr/local/lib/python3.6/dist-packages (from pre-commit->translate) (1.12.0)\n",
            "Collecting nodeenv>=0.11.1 (from pre-commit->translate)\n",
            "  Downloading https://files.pythonhosted.org/packages/00/6e/ed417bd1ed417ab3feada52d0c89ab0ed87d150f91590badf84273e047c9/nodeenv-1.3.3.tar.gz\n",
            "Requirement already satisfied: importlib-metadata in /usr/local/lib/python3.6/dist-packages (from pre-commit->translate) (0.18)\n",
            "Collecting toml (from pre-commit->translate)\n",
            "  Downloading https://files.pythonhosted.org/packages/a2/12/ced7105d2de62fa7c8fb5fce92cc4ce66b57c95fb875e9318dba7f8c5db0/toml-0.10.0-py2.py3-none-any.whl\n",
            "Requirement already satisfied: pyyaml in /usr/local/lib/python3.6/dist-packages (from pre-commit->translate) (3.13)\n",
            "Collecting virtualenv>=15.2 (from pre-commit->translate)\n",
            "\u001b[?25l  Downloading https://files.pythonhosted.org/packages/eb/9f/33373d471bb9337c8db86b763052964c42f5079ea0de9517bc88acfbad26/virtualenv-16.6.2-py2.py3-none-any.whl (2.0MB)\n",
            "\u001b[K     |████████████████████████████████| 2.0MB 40.2MB/s \n",
            "\u001b[?25hCollecting identify>=1.0.0 (from pre-commit->translate)\n",
            "\u001b[?25l  Downloading https://files.pythonhosted.org/packages/94/f7/0ad891a459ee50e8774636798ce00e0b445addd8555661da9dbb546676a6/identify-1.4.5-py2.py3-none-any.whl (97kB)\n",
            "\u001b[K     |████████████████████████████████| 102kB 28.7MB/s \n",
            "\u001b[?25hCollecting aspy.yaml (from pre-commit->translate)\n",
            "  Downloading https://files.pythonhosted.org/packages/99/ce/78be097b00817ccf02deaf481eb7a603eecee6fa216e82fa7848cd265449/aspy.yaml-1.3.0-py2.py3-none-any.whl\n",
            "Collecting cfgv>=2.0.0 (from pre-commit->translate)\n",
            "  Downloading https://files.pythonhosted.org/packages/2f/ec/3c0a56fbc00e6b649c1dc809dc3f12c5796fbfb7940d1167b9bddc67b818/cfgv-2.0.0-py2.py3-none-any.whl\n",
            "Collecting importlib-resources; python_version < \"3.7\" (from pre-commit->translate)\n",
            "  Downloading https://files.pythonhosted.org/packages/2f/f7/b4aa02cdd3ee7ebba375969d77c00826aa15c5db84247d23c89522dccbfa/importlib_resources-1.0.2-py2.py3-none-any.whl\n",
            "Collecting pluggy<1,>=0.12.0 (from tox->translate)\n",
            "  Downloading https://files.pythonhosted.org/packages/06/ee/de89e0582276e3551df3110088bf20844de2b0e7df2748406876cc78e021/pluggy-0.12.0-py2.py3-none-any.whl\n",
            "Requirement already satisfied: filelock<4,>=3.0.0 in /usr/local/lib/python3.6/dist-packages (from tox->translate) (3.0.12)\n",
            "Requirement already satisfied: packaging>=14 in /usr/local/lib/python3.6/dist-packages (from tox->translate) (19.0)\n",
            "Requirement already satisfied: py<2,>=1.4.17 in /usr/local/lib/python3.6/dist-packages (from tox->translate) (1.8.0)\n",
            "Requirement already satisfied: zipp>=0.5 in /usr/local/lib/python3.6/dist-packages (from importlib-metadata->pre-commit->translate) (0.5.2)\n",
            "Requirement already satisfied: pyparsing>=2.0.2 in /usr/local/lib/python3.6/dist-packages (from packaging>=14->tox->translate) (2.4.0)\n",
            "Building wheels for collected packages: nodeenv\n",
            "  Building wheel for nodeenv (setup.py) ... \u001b[?25l\u001b[?25hdone\n",
            "  Stored in directory: /root/.cache/pip/wheels/7b/6c/23/eb26369b77904c8963fae9e64338b0f0b948b4d59710760834\n",
            "Successfully built nodeenv\n",
            "\u001b[31mERROR: pytest 3.6.4 has requirement pluggy<0.8,>=0.5, but you'll have pluggy 0.12.0 which is incompatible.\u001b[0m\n",
            "\u001b[31mERROR: datascience 0.10.6 has requirement folium==0.2.1, but you'll have folium 0.8.3 which is incompatible.\u001b[0m\n",
            "Installing collected packages: nodeenv, toml, virtualenv, identify, aspy.yaml, cfgv, importlib-resources, pre-commit, pluggy, tox, translate\n",
            "  Found existing installation: pluggy 0.7.1\n",
            "    Uninstalling pluggy-0.7.1:\n",
            "      Successfully uninstalled pluggy-0.7.1\n",
            "Successfully installed aspy.yaml-1.3.0 cfgv-2.0.0 identify-1.4.5 importlib-resources-1.0.2 nodeenv-1.3.3 pluggy-0.12.0 pre-commit-1.17.0 toml-0.10.0 tox-3.13.2 translate-3.5.0 virtualenv-16.6.2\n"
          ],
          "name": "stdout"
        }
      ]
    },
    {
      "cell_type": "code",
      "metadata": {
        "id": "jClNlV3SzAz4",
        "colab_type": "code",
        "outputId": "751e8414-f681-48f0-d603-4d39e5ef4ce5",
        "colab": {
          "base_uri": "https://localhost:8080/",
          "height": 34
        }
      },
      "source": [
        ""
      ],
      "execution_count": 0,
      "outputs": [
        {
          "output_type": "stream",
          "text": [
            "desodorante pies piedra lumbre\n"
          ],
          "name": "stdout"
        }
      ]
    },
    {
      "cell_type": "code",
      "metadata": {
        "id": "5j2DU1_lK3vQ",
        "colab_type": "code",
        "colab": {}
      },
      "source": [
        ""
      ],
      "execution_count": 0,
      "outputs": []
    }
  ]
}